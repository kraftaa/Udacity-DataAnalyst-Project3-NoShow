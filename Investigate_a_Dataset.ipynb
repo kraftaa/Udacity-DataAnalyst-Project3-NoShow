{
 "cells": [
  {
   "cell_type": "markdown",
   "metadata": {},
   "source": [
    "# Project: Investigate a No-Show Appointments Dataset\n",
    "\n",
    "## Table of Contents\n",
    "<ul>\n",
    "<li><a href=\"#intro\">Introduction</a></li>\n",
    "<li><a href=\"#wrangling\">Data Wrangling</a></li>\n",
    "<li><a href=\"#eda\">Exploratory Data Analysis</a></li>\n",
    "<li><a href=\"#conclusions\">Conclusions</a></li>\n",
    "</ul>"
   ]
  },
  {
   "cell_type": "markdown",
   "metadata": {},
   "source": [
    "<a id='intro'></a>\n",
    "## Introduction\n",
    "\n",
    "I've selected 'No-Show' Database. This dataset collects information from 100k medical appointments in Brazil and is focused on the question of whether or not patients show up for their appointments.\n",
    "\n",
    "I was interested to see correlation and trying to identify the reason behind missed appointments.\n",
    "\n",
    "I see one dependent variable : \n",
    "- 'No-Show' - which indicates missed or taken appointment.\n",
    "\n",
    "and 8 independent variables:\n",
    "<li><a href=\"#gen\">Gender</a></li>\n",
    "<li><a href=\"#age\">Age</a></li>\n",
    "<li><a href=\"#sms\">SMS</a></li>\n",
    "<li><a href=\"#diab\">Diabetes</a></li>\n",
    "<li><a href=\"#schol\">Scholarship</a></li>\n",
    "<li><a href=\"#alc\">Alcoholism</a></li>\n",
    "<li><a href=\"#week\">Day of the week</a></li>\n",
    "<li><a href=\"#hosp\">Hospital</a></li>\n",
    "\n",
    "\n",
    "\n",
    "I's also try to chechk how gender and day of weeks or month affected 'No-Show' variable.\n",
    "I want to answer the questions:\n",
    "\n",
    "How do \n",
    "- Age\n",
    "- Gender\n",
    "- Scholarship\n",
    "- Day of the week\n",
    "- Diabetes\n",
    "- Alcoholism\n",
    "- Received sms\n",
    "help us to predict if appointment would be missed or not.\n",
    "Is any of these variables affect our dependent variable more than others."
   ]
  },
  {
   "cell_type": "code",
   "execution_count": 60,
   "metadata": {},
   "outputs": [],
   "source": [
    "#import necessary modules\n",
    "\n",
    "import pandas as pd\n",
    "import numpy as np\n",
    "import matplotlib.pyplot as plt\n",
    "import seaborn as sns\n",
    "\n",
    "% matplotlib inline"
   ]
  },
  {
   "cell_type": "markdown",
   "metadata": {},
   "source": [
    "<a id='wrangling'></a>\n",
    "## Data Wrangling\n"
   ]
  },
  {
   "cell_type": "markdown",
   "metadata": {},
   "source": [
    "First I need:\n",
    "- to import all modules\n",
    "- to read the file\n",
    "- to have a look at the file to understand the data (`.head()` gives us first 5 rows)"
   ]
  },
  {
   "cell_type": "code",
   "execution_count": 61,
   "metadata": {},
   "outputs": [
    {
     "data": {
      "text/html": [
       "<div>\n",
       "<style>\n",
       "    .dataframe thead tr:only-child th {\n",
       "        text-align: right;\n",
       "    }\n",
       "\n",
       "    .dataframe thead th {\n",
       "        text-align: left;\n",
       "    }\n",
       "\n",
       "    .dataframe tbody tr th {\n",
       "        vertical-align: top;\n",
       "    }\n",
       "</style>\n",
       "<table border=\"1\" class=\"dataframe\">\n",
       "  <thead>\n",
       "    <tr style=\"text-align: right;\">\n",
       "      <th></th>\n",
       "      <th>PatientId</th>\n",
       "      <th>AppointmentID</th>\n",
       "      <th>Gender</th>\n",
       "      <th>ScheduledDay</th>\n",
       "      <th>AppointmentDay</th>\n",
       "      <th>Age</th>\n",
       "      <th>Neighbourhood</th>\n",
       "      <th>Scholarship</th>\n",
       "      <th>Hipertension</th>\n",
       "      <th>Diabetes</th>\n",
       "      <th>Alcoholism</th>\n",
       "      <th>Handcap</th>\n",
       "      <th>SMS_received</th>\n",
       "      <th>No-show</th>\n",
       "    </tr>\n",
       "  </thead>\n",
       "  <tbody>\n",
       "    <tr>\n",
       "      <th>0</th>\n",
       "      <td>2.987250e+13</td>\n",
       "      <td>5642903</td>\n",
       "      <td>F</td>\n",
       "      <td>2016-04-29T18:38:08Z</td>\n",
       "      <td>2016-04-29T00:00:00Z</td>\n",
       "      <td>62</td>\n",
       "      <td>JARDIM DA PENHA</td>\n",
       "      <td>0</td>\n",
       "      <td>1</td>\n",
       "      <td>0</td>\n",
       "      <td>0</td>\n",
       "      <td>0</td>\n",
       "      <td>0</td>\n",
       "      <td>No</td>\n",
       "    </tr>\n",
       "    <tr>\n",
       "      <th>1</th>\n",
       "      <td>5.589978e+14</td>\n",
       "      <td>5642503</td>\n",
       "      <td>M</td>\n",
       "      <td>2016-04-29T16:08:27Z</td>\n",
       "      <td>2016-04-29T00:00:00Z</td>\n",
       "      <td>56</td>\n",
       "      <td>JARDIM DA PENHA</td>\n",
       "      <td>0</td>\n",
       "      <td>0</td>\n",
       "      <td>0</td>\n",
       "      <td>0</td>\n",
       "      <td>0</td>\n",
       "      <td>0</td>\n",
       "      <td>No</td>\n",
       "    </tr>\n",
       "    <tr>\n",
       "      <th>2</th>\n",
       "      <td>4.262962e+12</td>\n",
       "      <td>5642549</td>\n",
       "      <td>F</td>\n",
       "      <td>2016-04-29T16:19:04Z</td>\n",
       "      <td>2016-04-29T00:00:00Z</td>\n",
       "      <td>62</td>\n",
       "      <td>MATA DA PRAIA</td>\n",
       "      <td>0</td>\n",
       "      <td>0</td>\n",
       "      <td>0</td>\n",
       "      <td>0</td>\n",
       "      <td>0</td>\n",
       "      <td>0</td>\n",
       "      <td>No</td>\n",
       "    </tr>\n",
       "    <tr>\n",
       "      <th>3</th>\n",
       "      <td>8.679512e+11</td>\n",
       "      <td>5642828</td>\n",
       "      <td>F</td>\n",
       "      <td>2016-04-29T17:29:31Z</td>\n",
       "      <td>2016-04-29T00:00:00Z</td>\n",
       "      <td>8</td>\n",
       "      <td>PONTAL DE CAMBURI</td>\n",
       "      <td>0</td>\n",
       "      <td>0</td>\n",
       "      <td>0</td>\n",
       "      <td>0</td>\n",
       "      <td>0</td>\n",
       "      <td>0</td>\n",
       "      <td>No</td>\n",
       "    </tr>\n",
       "    <tr>\n",
       "      <th>4</th>\n",
       "      <td>8.841186e+12</td>\n",
       "      <td>5642494</td>\n",
       "      <td>F</td>\n",
       "      <td>2016-04-29T16:07:23Z</td>\n",
       "      <td>2016-04-29T00:00:00Z</td>\n",
       "      <td>56</td>\n",
       "      <td>JARDIM DA PENHA</td>\n",
       "      <td>0</td>\n",
       "      <td>1</td>\n",
       "      <td>1</td>\n",
       "      <td>0</td>\n",
       "      <td>0</td>\n",
       "      <td>0</td>\n",
       "      <td>No</td>\n",
       "    </tr>\n",
       "  </tbody>\n",
       "</table>\n",
       "</div>"
      ],
      "text/plain": [
       "      PatientId  AppointmentID Gender          ScheduledDay  \\\n",
       "0  2.987250e+13        5642903      F  2016-04-29T18:38:08Z   \n",
       "1  5.589978e+14        5642503      M  2016-04-29T16:08:27Z   \n",
       "2  4.262962e+12        5642549      F  2016-04-29T16:19:04Z   \n",
       "3  8.679512e+11        5642828      F  2016-04-29T17:29:31Z   \n",
       "4  8.841186e+12        5642494      F  2016-04-29T16:07:23Z   \n",
       "\n",
       "         AppointmentDay  Age      Neighbourhood  Scholarship  Hipertension  \\\n",
       "0  2016-04-29T00:00:00Z   62    JARDIM DA PENHA            0             1   \n",
       "1  2016-04-29T00:00:00Z   56    JARDIM DA PENHA            0             0   \n",
       "2  2016-04-29T00:00:00Z   62      MATA DA PRAIA            0             0   \n",
       "3  2016-04-29T00:00:00Z    8  PONTAL DE CAMBURI            0             0   \n",
       "4  2016-04-29T00:00:00Z   56    JARDIM DA PENHA            0             1   \n",
       "\n",
       "   Diabetes  Alcoholism  Handcap  SMS_received No-show  \n",
       "0         0           0        0             0      No  \n",
       "1         0           0        0             0      No  \n",
       "2         0           0        0             0      No  \n",
       "3         0           0        0             0      No  \n",
       "4         1           0        0             0      No  "
      ]
     },
     "execution_count": 61,
     "metadata": {},
     "output_type": "execute_result"
    }
   ],
   "source": [
    "#reading the file and checking the first row to get idea about dataset\n",
    "\n",
    "df = pd.read_csv('noshowappointments-kagglev2-may-2016.csv')\n",
    "df.head()"
   ]
  },
  {
   "cell_type": "markdown",
   "metadata": {},
   "source": [
    "No I'd check the type of cells in each column and see if any column has missing values."
   ]
  },
  {
   "cell_type": "code",
   "execution_count": 62,
   "metadata": {},
   "outputs": [
    {
     "data": {
      "text/plain": [
       "(110527, 14)"
      ]
     },
     "execution_count": 62,
     "metadata": {},
     "output_type": "execute_result"
    }
   ],
   "source": [
    "# check number of columns and rows\n",
    "df.shape"
   ]
  },
  {
   "cell_type": "code",
   "execution_count": 63,
   "metadata": {},
   "outputs": [
    {
     "name": "stdout",
     "output_type": "stream",
     "text": [
      "<class 'pandas.core.frame.DataFrame'>\n",
      "RangeIndex: 110527 entries, 0 to 110526\n",
      "Data columns (total 14 columns):\n",
      "PatientId         110527 non-null float64\n",
      "AppointmentID     110527 non-null int64\n",
      "Gender            110527 non-null object\n",
      "ScheduledDay      110527 non-null object\n",
      "AppointmentDay    110527 non-null object\n",
      "Age               110527 non-null int64\n",
      "Neighbourhood     110527 non-null object\n",
      "Scholarship       110527 non-null int64\n",
      "Hipertension      110527 non-null int64\n",
      "Diabetes          110527 non-null int64\n",
      "Alcoholism        110527 non-null int64\n",
      "Handcap           110527 non-null int64\n",
      "SMS_received      110527 non-null int64\n",
      "No-show           110527 non-null object\n",
      "dtypes: float64(1), int64(8), object(5)\n",
      "memory usage: 11.8+ MB\n"
     ]
    }
   ],
   "source": [
    "# check missed values and values types\n",
    "df.info()"
   ]
  },
  {
   "cell_type": "markdown",
   "metadata": {},
   "source": [
    "According to the query we don't have any missing values.\n",
    "We also have Date columns ('ScheduledDay' and 'AppointmentDay') type object, which is a string in this case.\n",
    "So if we want to work with date type we need to convert these columns into date type.\n",
    "For that we have:\n",
    "- import datetime module\n",
    "- convert type "
   ]
  },
  {
   "cell_type": "code",
   "execution_count": 64,
   "metadata": {},
   "outputs": [],
   "source": [
    "#import datetime module to extract date month , day, year from the ScheduledDay and AppointmentDay\n",
    "import datetime"
   ]
  },
  {
   "cell_type": "code",
   "execution_count": 65,
   "metadata": {},
   "outputs": [],
   "source": [
    "# changing types of these columns\n",
    "df['ScheduledDay'] = pd.to_datetime(df['ScheduledDay'])\n",
    "df['AppointmentDay'] = pd.to_datetime(df['AppointmentDay'])"
   ]
  },
  {
   "cell_type": "markdown",
   "metadata": {},
   "source": [
    "We need to check types again to be sure the convertion worked as planned."
   ]
  },
  {
   "cell_type": "code",
   "execution_count": 66,
   "metadata": {},
   "outputs": [
    {
     "name": "stdout",
     "output_type": "stream",
     "text": [
      "<class 'pandas.core.frame.DataFrame'>\n",
      "RangeIndex: 110527 entries, 0 to 110526\n",
      "Data columns (total 14 columns):\n",
      "PatientId         110527 non-null float64\n",
      "AppointmentID     110527 non-null int64\n",
      "Gender            110527 non-null object\n",
      "ScheduledDay      110527 non-null datetime64[ns]\n",
      "AppointmentDay    110527 non-null datetime64[ns]\n",
      "Age               110527 non-null int64\n",
      "Neighbourhood     110527 non-null object\n",
      "Scholarship       110527 non-null int64\n",
      "Hipertension      110527 non-null int64\n",
      "Diabetes          110527 non-null int64\n",
      "Alcoholism        110527 non-null int64\n",
      "Handcap           110527 non-null int64\n",
      "SMS_received      110527 non-null int64\n",
      "No-show           110527 non-null object\n",
      "dtypes: datetime64[ns](2), float64(1), int64(8), object(3)\n",
      "memory usage: 11.8+ MB\n"
     ]
    }
   ],
   "source": [
    "#check if we actually changed ScheduledDay and AppointmentDay type\n",
    "df.info()"
   ]
  },
  {
   "cell_type": "markdown",
   "metadata": {},
   "source": [
    "Indeed now `ScheduledDay` and `AppointmentDay` now have type `datetime64[ns]`"
   ]
  },
  {
   "cell_type": "markdown",
   "metadata": {},
   "source": [
    "Now we want to use date information by getting Day, Month and Year from the `ScheduledDay` and `AppointmentDay` column data."
   ]
  },
  {
   "cell_type": "code",
   "execution_count": 67,
   "metadata": {},
   "outputs": [],
   "source": [
    "# extracting year, month, day, day of the week from ScheduledDay column\n",
    "df['SchedYear'], df['SchedMonth'], df['SchedDay'], df['SchedWeekday'] = df['ScheduledDay'].dt.year, df['ScheduledDay'].dt.month,df['ScheduledDay'].dt.day, df['ScheduledDay'].dt.dayofweek"
   ]
  },
  {
   "cell_type": "code",
   "execution_count": 68,
   "metadata": {},
   "outputs": [],
   "source": [
    "# extracting year, month, day, day of the week from AppointmentDay column\n",
    "df['AppYear'], df['AppMonth'], df['AppDay'] = df['AppointmentDay'].dt.year, df['AppointmentDay'].dt.month,df['AppointmentDay'].dt.day"
   ]
  },
  {
   "cell_type": "markdown",
   "metadata": {},
   "source": [
    "In order to check appointments by name of the day of the week, we use `.datetime.srtftime` module and get the name."
   ]
  },
  {
   "cell_type": "code",
   "execution_count": 69,
   "metadata": {},
   "outputs": [],
   "source": [
    "# getting the name of the day of week\n",
    "df['SchedWeekDay'] = df[['ScheduledDay']].apply(lambda x: datetime.datetime.strftime(x['ScheduledDay'], '%A'), axis=1)"
   ]
  },
  {
   "cell_type": "markdown",
   "metadata": {},
   "source": [
    "We'll also add column which converts `Yes` into `1` and `No` into `0` for missed appointments."
   ]
  },
  {
   "cell_type": "code",
   "execution_count": 70,
   "metadata": {},
   "outputs": [],
   "source": [
    "# adding column which converts Yes into 1 and No into 0 for missed appointments.\n",
    "df['NoShowInt'] = df['No-show'].apply(lambda x: 0 if x == 'No' else 1)"
   ]
  },
  {
   "cell_type": "markdown",
   "metadata": {},
   "source": [
    "Now we'll check that we added proper columns and they have proper type `int64` and `object` for the day name. Yes, they do.\n",
    "In order to check if there are any missed values we can also use `.isnull().sum()`"
   ]
  },
  {
   "cell_type": "code",
   "execution_count": 71,
   "metadata": {},
   "outputs": [
    {
     "data": {
      "text/plain": [
       "PatientId         0\n",
       "AppointmentID     0\n",
       "Gender            0\n",
       "ScheduledDay      0\n",
       "AppointmentDay    0\n",
       "Age               0\n",
       "Neighbourhood     0\n",
       "Scholarship       0\n",
       "Hipertension      0\n",
       "Diabetes          0\n",
       "Alcoholism        0\n",
       "Handcap           0\n",
       "SMS_received      0\n",
       "No-show           0\n",
       "SchedYear         0\n",
       "SchedMonth        0\n",
       "SchedDay          0\n",
       "SchedWeekday      0\n",
       "AppYear           0\n",
       "AppMonth          0\n",
       "AppDay            0\n",
       "SchedWeekDay      0\n",
       "NoShowInt         0\n",
       "dtype: int64"
      ]
     },
     "execution_count": 71,
     "metadata": {},
     "output_type": "execute_result"
    }
   ],
   "source": [
    "# if there are any missed values we can also use .isnull().sum()\n",
    "df.isnull().sum()"
   ]
  },
  {
   "cell_type": "markdown",
   "metadata": {},
   "source": [
    "### Data Cleaning (Dropping columns)"
   ]
  },
  {
   "cell_type": "markdown",
   "metadata": {},
   "source": [
    "We see that PatientId and AppointmentId are irrelevant for our analysis so we'll drop these columns.\n"
   ]
  },
  {
   "cell_type": "code",
   "execution_count": 72,
   "metadata": {},
   "outputs": [],
   "source": [
    "#PatientId and AppointmentId are irrelevant for our analysis so we'll drop these columns\n",
    "df.drop(['PatientId','AppointmentID'], axis=1, inplace = True)"
   ]
  },
  {
   "cell_type": "markdown",
   "metadata": {},
   "source": [
    "Let's check that we removed these columns."
   ]
  },
  {
   "cell_type": "code",
   "execution_count": 73,
   "metadata": {},
   "outputs": [
    {
     "name": "stdout",
     "output_type": "stream",
     "text": [
      "<class 'pandas.core.frame.DataFrame'>\n",
      "RangeIndex: 110527 entries, 0 to 110526\n",
      "Data columns (total 21 columns):\n",
      "Gender            110527 non-null object\n",
      "ScheduledDay      110527 non-null datetime64[ns]\n",
      "AppointmentDay    110527 non-null datetime64[ns]\n",
      "Age               110527 non-null int64\n",
      "Neighbourhood     110527 non-null object\n",
      "Scholarship       110527 non-null int64\n",
      "Hipertension      110527 non-null int64\n",
      "Diabetes          110527 non-null int64\n",
      "Alcoholism        110527 non-null int64\n",
      "Handcap           110527 non-null int64\n",
      "SMS_received      110527 non-null int64\n",
      "No-show           110527 non-null object\n",
      "SchedYear         110527 non-null int64\n",
      "SchedMonth        110527 non-null int64\n",
      "SchedDay          110527 non-null int64\n",
      "SchedWeekday      110527 non-null int64\n",
      "AppYear           110527 non-null int64\n",
      "AppMonth          110527 non-null int64\n",
      "AppDay            110527 non-null int64\n",
      "SchedWeekDay      110527 non-null object\n",
      "NoShowInt         110527 non-null int64\n",
      "dtypes: datetime64[ns](2), int64(15), object(4)\n",
      "memory usage: 17.7+ MB\n"
     ]
    }
   ],
   "source": [
    "#check that we removed these columns\n",
    "df.info()"
   ]
  },
  {
   "cell_type": "markdown",
   "metadata": {},
   "source": [
    "Let's check how the table look like. Yes, all additional columns (date, name of the day, missed appointment (1/0) look as planned."
   ]
  },
  {
   "cell_type": "code",
   "execution_count": 74,
   "metadata": {},
   "outputs": [
    {
     "data": {
      "text/html": [
       "<div>\n",
       "<style>\n",
       "    .dataframe thead tr:only-child th {\n",
       "        text-align: right;\n",
       "    }\n",
       "\n",
       "    .dataframe thead th {\n",
       "        text-align: left;\n",
       "    }\n",
       "\n",
       "    .dataframe tbody tr th {\n",
       "        vertical-align: top;\n",
       "    }\n",
       "</style>\n",
       "<table border=\"1\" class=\"dataframe\">\n",
       "  <thead>\n",
       "    <tr style=\"text-align: right;\">\n",
       "      <th></th>\n",
       "      <th>Gender</th>\n",
       "      <th>ScheduledDay</th>\n",
       "      <th>AppointmentDay</th>\n",
       "      <th>Age</th>\n",
       "      <th>Neighbourhood</th>\n",
       "      <th>Scholarship</th>\n",
       "      <th>Hipertension</th>\n",
       "      <th>Diabetes</th>\n",
       "      <th>Alcoholism</th>\n",
       "      <th>Handcap</th>\n",
       "      <th>...</th>\n",
       "      <th>No-show</th>\n",
       "      <th>SchedYear</th>\n",
       "      <th>SchedMonth</th>\n",
       "      <th>SchedDay</th>\n",
       "      <th>SchedWeekday</th>\n",
       "      <th>AppYear</th>\n",
       "      <th>AppMonth</th>\n",
       "      <th>AppDay</th>\n",
       "      <th>SchedWeekDay</th>\n",
       "      <th>NoShowInt</th>\n",
       "    </tr>\n",
       "  </thead>\n",
       "  <tbody>\n",
       "    <tr>\n",
       "      <th>0</th>\n",
       "      <td>F</td>\n",
       "      <td>2016-04-29 18:38:08</td>\n",
       "      <td>2016-04-29</td>\n",
       "      <td>62</td>\n",
       "      <td>JARDIM DA PENHA</td>\n",
       "      <td>0</td>\n",
       "      <td>1</td>\n",
       "      <td>0</td>\n",
       "      <td>0</td>\n",
       "      <td>0</td>\n",
       "      <td>...</td>\n",
       "      <td>No</td>\n",
       "      <td>2016</td>\n",
       "      <td>4</td>\n",
       "      <td>29</td>\n",
       "      <td>4</td>\n",
       "      <td>2016</td>\n",
       "      <td>4</td>\n",
       "      <td>29</td>\n",
       "      <td>Friday</td>\n",
       "      <td>0</td>\n",
       "    </tr>\n",
       "  </tbody>\n",
       "</table>\n",
       "<p>1 rows × 21 columns</p>\n",
       "</div>"
      ],
      "text/plain": [
       "  Gender        ScheduledDay AppointmentDay  Age    Neighbourhood  \\\n",
       "0      F 2016-04-29 18:38:08     2016-04-29   62  JARDIM DA PENHA   \n",
       "\n",
       "   Scholarship  Hipertension  Diabetes  Alcoholism  Handcap    ...     \\\n",
       "0            0             1         0           0        0    ...      \n",
       "\n",
       "   No-show SchedYear  SchedMonth  SchedDay  SchedWeekday  AppYear  AppMonth  \\\n",
       "0       No      2016           4        29             4     2016         4   \n",
       "\n",
       "   AppDay  SchedWeekDay NoShowInt  \n",
       "0      29        Friday         0  \n",
       "\n",
       "[1 rows x 21 columns]"
      ]
     },
     "execution_count": 74,
     "metadata": {},
     "output_type": "execute_result"
    }
   ],
   "source": [
    "# check that  all additional columns (date, name of the day, missed appointment (1/0) look as planned.\n",
    "df.head(1)"
   ]
  },
  {
   "cell_type": "markdown",
   "metadata": {},
   "source": [
    "<a id='eda'></a>\n",
    "## Exploratory Data Analysis"
   ]
  },
  {
   "cell_type": "markdown",
   "metadata": {},
   "source": [
    "Let's analyze data and check percentiles, min, max and mean and st.deviation."
   ]
  },
  {
   "cell_type": "code",
   "execution_count": 75,
   "metadata": {},
   "outputs": [
    {
     "data": {
      "text/html": [
       "<div>\n",
       "<style>\n",
       "    .dataframe thead tr:only-child th {\n",
       "        text-align: right;\n",
       "    }\n",
       "\n",
       "    .dataframe thead th {\n",
       "        text-align: left;\n",
       "    }\n",
       "\n",
       "    .dataframe tbody tr th {\n",
       "        vertical-align: top;\n",
       "    }\n",
       "</style>\n",
       "<table border=\"1\" class=\"dataframe\">\n",
       "  <thead>\n",
       "    <tr style=\"text-align: right;\">\n",
       "      <th></th>\n",
       "      <th>Age</th>\n",
       "      <th>Scholarship</th>\n",
       "      <th>Hipertension</th>\n",
       "      <th>Diabetes</th>\n",
       "      <th>Alcoholism</th>\n",
       "      <th>Handcap</th>\n",
       "      <th>SMS_received</th>\n",
       "      <th>SchedYear</th>\n",
       "      <th>SchedMonth</th>\n",
       "      <th>SchedDay</th>\n",
       "      <th>SchedWeekday</th>\n",
       "      <th>AppYear</th>\n",
       "      <th>AppMonth</th>\n",
       "      <th>AppDay</th>\n",
       "      <th>NoShowInt</th>\n",
       "    </tr>\n",
       "  </thead>\n",
       "  <tbody>\n",
       "    <tr>\n",
       "      <th>count</th>\n",
       "      <td>110527.000000</td>\n",
       "      <td>110527.000000</td>\n",
       "      <td>110527.000000</td>\n",
       "      <td>110527.000000</td>\n",
       "      <td>110527.000000</td>\n",
       "      <td>110527.000000</td>\n",
       "      <td>110527.000000</td>\n",
       "      <td>110527.000000</td>\n",
       "      <td>110527.000000</td>\n",
       "      <td>110527.000000</td>\n",
       "      <td>110527.000000</td>\n",
       "      <td>110527.0</td>\n",
       "      <td>110527.000000</td>\n",
       "      <td>110527.000000</td>\n",
       "      <td>110527.000000</td>\n",
       "    </tr>\n",
       "    <tr>\n",
       "      <th>mean</th>\n",
       "      <td>37.088874</td>\n",
       "      <td>0.098266</td>\n",
       "      <td>0.197246</td>\n",
       "      <td>0.071865</td>\n",
       "      <td>0.030400</td>\n",
       "      <td>0.022248</td>\n",
       "      <td>0.321026</td>\n",
       "      <td>2015.999439</td>\n",
       "      <td>4.823871</td>\n",
       "      <td>14.252228</td>\n",
       "      <td>1.851955</td>\n",
       "      <td>2016.0</td>\n",
       "      <td>5.210048</td>\n",
       "      <td>12.499398</td>\n",
       "      <td>0.201933</td>\n",
       "    </tr>\n",
       "    <tr>\n",
       "      <th>std</th>\n",
       "      <td>23.110205</td>\n",
       "      <td>0.297675</td>\n",
       "      <td>0.397921</td>\n",
       "      <td>0.258265</td>\n",
       "      <td>0.171686</td>\n",
       "      <td>0.161543</td>\n",
       "      <td>0.466873</td>\n",
       "      <td>0.023678</td>\n",
       "      <td>0.715801</td>\n",
       "      <td>9.345629</td>\n",
       "      <td>1.378520</td>\n",
       "      <td>0.0</td>\n",
       "      <td>0.473780</td>\n",
       "      <td>9.056482</td>\n",
       "      <td>0.401444</td>\n",
       "    </tr>\n",
       "    <tr>\n",
       "      <th>min</th>\n",
       "      <td>-1.000000</td>\n",
       "      <td>0.000000</td>\n",
       "      <td>0.000000</td>\n",
       "      <td>0.000000</td>\n",
       "      <td>0.000000</td>\n",
       "      <td>0.000000</td>\n",
       "      <td>0.000000</td>\n",
       "      <td>2015.000000</td>\n",
       "      <td>1.000000</td>\n",
       "      <td>1.000000</td>\n",
       "      <td>0.000000</td>\n",
       "      <td>2016.0</td>\n",
       "      <td>4.000000</td>\n",
       "      <td>1.000000</td>\n",
       "      <td>0.000000</td>\n",
       "    </tr>\n",
       "    <tr>\n",
       "      <th>25%</th>\n",
       "      <td>18.000000</td>\n",
       "      <td>0.000000</td>\n",
       "      <td>0.000000</td>\n",
       "      <td>0.000000</td>\n",
       "      <td>0.000000</td>\n",
       "      <td>0.000000</td>\n",
       "      <td>0.000000</td>\n",
       "      <td>2016.000000</td>\n",
       "      <td>4.000000</td>\n",
       "      <td>6.000000</td>\n",
       "      <td>1.000000</td>\n",
       "      <td>2016.0</td>\n",
       "      <td>5.000000</td>\n",
       "      <td>5.000000</td>\n",
       "      <td>0.000000</td>\n",
       "    </tr>\n",
       "    <tr>\n",
       "      <th>50%</th>\n",
       "      <td>37.000000</td>\n",
       "      <td>0.000000</td>\n",
       "      <td>0.000000</td>\n",
       "      <td>0.000000</td>\n",
       "      <td>0.000000</td>\n",
       "      <td>0.000000</td>\n",
       "      <td>0.000000</td>\n",
       "      <td>2016.000000</td>\n",
       "      <td>5.000000</td>\n",
       "      <td>13.000000</td>\n",
       "      <td>2.000000</td>\n",
       "      <td>2016.0</td>\n",
       "      <td>5.000000</td>\n",
       "      <td>10.000000</td>\n",
       "      <td>0.000000</td>\n",
       "    </tr>\n",
       "    <tr>\n",
       "      <th>75%</th>\n",
       "      <td>55.000000</td>\n",
       "      <td>0.000000</td>\n",
       "      <td>0.000000</td>\n",
       "      <td>0.000000</td>\n",
       "      <td>0.000000</td>\n",
       "      <td>0.000000</td>\n",
       "      <td>1.000000</td>\n",
       "      <td>2016.000000</td>\n",
       "      <td>5.000000</td>\n",
       "      <td>22.000000</td>\n",
       "      <td>3.000000</td>\n",
       "      <td>2016.0</td>\n",
       "      <td>5.000000</td>\n",
       "      <td>19.000000</td>\n",
       "      <td>0.000000</td>\n",
       "    </tr>\n",
       "    <tr>\n",
       "      <th>max</th>\n",
       "      <td>115.000000</td>\n",
       "      <td>1.000000</td>\n",
       "      <td>1.000000</td>\n",
       "      <td>1.000000</td>\n",
       "      <td>1.000000</td>\n",
       "      <td>4.000000</td>\n",
       "      <td>1.000000</td>\n",
       "      <td>2016.000000</td>\n",
       "      <td>12.000000</td>\n",
       "      <td>31.000000</td>\n",
       "      <td>5.000000</td>\n",
       "      <td>2016.0</td>\n",
       "      <td>6.000000</td>\n",
       "      <td>31.000000</td>\n",
       "      <td>1.000000</td>\n",
       "    </tr>\n",
       "  </tbody>\n",
       "</table>\n",
       "</div>"
      ],
      "text/plain": [
       "                 Age    Scholarship   Hipertension       Diabetes  \\\n",
       "count  110527.000000  110527.000000  110527.000000  110527.000000   \n",
       "mean       37.088874       0.098266       0.197246       0.071865   \n",
       "std        23.110205       0.297675       0.397921       0.258265   \n",
       "min        -1.000000       0.000000       0.000000       0.000000   \n",
       "25%        18.000000       0.000000       0.000000       0.000000   \n",
       "50%        37.000000       0.000000       0.000000       0.000000   \n",
       "75%        55.000000       0.000000       0.000000       0.000000   \n",
       "max       115.000000       1.000000       1.000000       1.000000   \n",
       "\n",
       "          Alcoholism        Handcap   SMS_received      SchedYear  \\\n",
       "count  110527.000000  110527.000000  110527.000000  110527.000000   \n",
       "mean        0.030400       0.022248       0.321026    2015.999439   \n",
       "std         0.171686       0.161543       0.466873       0.023678   \n",
       "min         0.000000       0.000000       0.000000    2015.000000   \n",
       "25%         0.000000       0.000000       0.000000    2016.000000   \n",
       "50%         0.000000       0.000000       0.000000    2016.000000   \n",
       "75%         0.000000       0.000000       1.000000    2016.000000   \n",
       "max         1.000000       4.000000       1.000000    2016.000000   \n",
       "\n",
       "          SchedMonth       SchedDay   SchedWeekday   AppYear       AppMonth  \\\n",
       "count  110527.000000  110527.000000  110527.000000  110527.0  110527.000000   \n",
       "mean        4.823871      14.252228       1.851955    2016.0       5.210048   \n",
       "std         0.715801       9.345629       1.378520       0.0       0.473780   \n",
       "min         1.000000       1.000000       0.000000    2016.0       4.000000   \n",
       "25%         4.000000       6.000000       1.000000    2016.0       5.000000   \n",
       "50%         5.000000      13.000000       2.000000    2016.0       5.000000   \n",
       "75%         5.000000      22.000000       3.000000    2016.0       5.000000   \n",
       "max        12.000000      31.000000       5.000000    2016.0       6.000000   \n",
       "\n",
       "              AppDay      NoShowInt  \n",
       "count  110527.000000  110527.000000  \n",
       "mean       12.499398       0.201933  \n",
       "std         9.056482       0.401444  \n",
       "min         1.000000       0.000000  \n",
       "25%         5.000000       0.000000  \n",
       "50%        10.000000       0.000000  \n",
       "75%        19.000000       0.000000  \n",
       "max        31.000000       1.000000  "
      ]
     },
     "execution_count": 75,
     "metadata": {},
     "output_type": "execute_result"
    }
   ],
   "source": [
    "# first glance at data analysis and check percentiles, min, max and mean and st.deviation\n",
    "df.describe()"
   ]
  },
  {
   "cell_type": "markdown",
   "metadata": {},
   "source": [
    "We see:\n",
    "- Average age is 37.09 yo,\n",
    "- Scholarship mean is almost 0.1, so only 10% of patient had scholarship for medical insurance,\n",
    "- Only 7% of people had Diabetes,\n",
    "- 3% people had Alcoholism,\n",
    "- Almost 20% had Hipertention,\n",
    "So Hipertention is the most common medical condition among observed. \n",
    "- 32% of people received SMS,\n",
    "- 2% patients Handicaped,\n",
    "- at average 20% of patients missed their appointments.\n",
    "\n",
    "Mistakes:\n",
    "- Age min is -1 which is impossible\n",
    "- Handcap value max is 4 which is impossible too as value could be either 1 or 0.\n",
    "Need to check rows with wrong data\n",
    "\n",
    "Doubts:\n",
    "- Age max is 115 which theoretically possible as oldest known person has lived up to 122 yo\n"
   ]
  },
  {
   "cell_type": "code",
   "execution_count": 76,
   "metadata": {},
   "outputs": [
    {
     "data": {
      "text/html": [
       "<div>\n",
       "<style>\n",
       "    .dataframe thead tr:only-child th {\n",
       "        text-align: right;\n",
       "    }\n",
       "\n",
       "    .dataframe thead th {\n",
       "        text-align: left;\n",
       "    }\n",
       "\n",
       "    .dataframe tbody tr th {\n",
       "        vertical-align: top;\n",
       "    }\n",
       "</style>\n",
       "<table border=\"1\" class=\"dataframe\">\n",
       "  <thead>\n",
       "    <tr style=\"text-align: right;\">\n",
       "      <th></th>\n",
       "      <th>Gender</th>\n",
       "      <th>ScheduledDay</th>\n",
       "      <th>AppointmentDay</th>\n",
       "      <th>Age</th>\n",
       "      <th>Neighbourhood</th>\n",
       "      <th>Scholarship</th>\n",
       "      <th>Hipertension</th>\n",
       "      <th>Diabetes</th>\n",
       "      <th>Alcoholism</th>\n",
       "      <th>Handcap</th>\n",
       "      <th>...</th>\n",
       "      <th>No-show</th>\n",
       "      <th>SchedYear</th>\n",
       "      <th>SchedMonth</th>\n",
       "      <th>SchedDay</th>\n",
       "      <th>SchedWeekday</th>\n",
       "      <th>AppYear</th>\n",
       "      <th>AppMonth</th>\n",
       "      <th>AppDay</th>\n",
       "      <th>SchedWeekDay</th>\n",
       "      <th>NoShowInt</th>\n",
       "    </tr>\n",
       "  </thead>\n",
       "  <tbody>\n",
       "    <tr>\n",
       "      <th>99832</th>\n",
       "      <td>F</td>\n",
       "      <td>2016-06-06 08:58:13</td>\n",
       "      <td>2016-06-06</td>\n",
       "      <td>-1</td>\n",
       "      <td>ROMÃO</td>\n",
       "      <td>0</td>\n",
       "      <td>0</td>\n",
       "      <td>0</td>\n",
       "      <td>0</td>\n",
       "      <td>0</td>\n",
       "      <td>...</td>\n",
       "      <td>No</td>\n",
       "      <td>2016</td>\n",
       "      <td>6</td>\n",
       "      <td>6</td>\n",
       "      <td>0</td>\n",
       "      <td>2016</td>\n",
       "      <td>6</td>\n",
       "      <td>6</td>\n",
       "      <td>Monday</td>\n",
       "      <td>0</td>\n",
       "    </tr>\n",
       "  </tbody>\n",
       "</table>\n",
       "<p>1 rows × 21 columns</p>\n",
       "</div>"
      ],
      "text/plain": [
       "      Gender        ScheduledDay AppointmentDay  Age Neighbourhood  \\\n",
       "99832      F 2016-06-06 08:58:13     2016-06-06   -1         ROMÃO   \n",
       "\n",
       "       Scholarship  Hipertension  Diabetes  Alcoholism  Handcap    ...     \\\n",
       "99832            0             0         0           0        0    ...      \n",
       "\n",
       "       No-show SchedYear  SchedMonth  SchedDay  SchedWeekday  AppYear  \\\n",
       "99832       No      2016           6         6             0     2016   \n",
       "\n",
       "       AppMonth  AppDay  SchedWeekDay NoShowInt  \n",
       "99832         6       6        Monday         0  \n",
       "\n",
       "[1 rows x 21 columns]"
      ]
     },
     "execution_count": 76,
     "metadata": {},
     "output_type": "execute_result"
    }
   ],
   "source": [
    "# check all rows with Age lower than 0\n",
    "\n",
    "wrongAge = df.query('Age < 0')\n",
    "wrongAge"
   ]
  },
  {
   "cell_type": "code",
   "execution_count": 77,
   "metadata": {},
   "outputs": [
    {
     "data": {
      "text/html": [
       "<div>\n",
       "<style>\n",
       "    .dataframe thead tr:only-child th {\n",
       "        text-align: right;\n",
       "    }\n",
       "\n",
       "    .dataframe thead th {\n",
       "        text-align: left;\n",
       "    }\n",
       "\n",
       "    .dataframe tbody tr th {\n",
       "        vertical-align: top;\n",
       "    }\n",
       "</style>\n",
       "<table border=\"1\" class=\"dataframe\">\n",
       "  <thead>\n",
       "    <tr style=\"text-align: right;\">\n",
       "      <th></th>\n",
       "      <th>Gender</th>\n",
       "      <th>ScheduledDay</th>\n",
       "      <th>AppointmentDay</th>\n",
       "      <th>Age</th>\n",
       "      <th>Neighbourhood</th>\n",
       "      <th>Scholarship</th>\n",
       "      <th>Hipertension</th>\n",
       "      <th>Diabetes</th>\n",
       "      <th>Alcoholism</th>\n",
       "      <th>Handcap</th>\n",
       "      <th>...</th>\n",
       "      <th>No-show</th>\n",
       "      <th>SchedYear</th>\n",
       "      <th>SchedMonth</th>\n",
       "      <th>SchedDay</th>\n",
       "      <th>SchedWeekday</th>\n",
       "      <th>AppYear</th>\n",
       "      <th>AppMonth</th>\n",
       "      <th>AppDay</th>\n",
       "      <th>SchedWeekDay</th>\n",
       "      <th>NoShowInt</th>\n",
       "    </tr>\n",
       "  </thead>\n",
       "  <tbody>\n",
       "    <tr>\n",
       "      <th>946</th>\n",
       "      <td>M</td>\n",
       "      <td>2016-04-14 09:26:08</td>\n",
       "      <td>2016-04-29</td>\n",
       "      <td>94</td>\n",
       "      <td>BELA VISTA</td>\n",
       "      <td>0</td>\n",
       "      <td>1</td>\n",
       "      <td>1</td>\n",
       "      <td>0</td>\n",
       "      <td>2</td>\n",
       "      <td>...</td>\n",
       "      <td>No</td>\n",
       "      <td>2016</td>\n",
       "      <td>4</td>\n",
       "      <td>14</td>\n",
       "      <td>3</td>\n",
       "      <td>2016</td>\n",
       "      <td>4</td>\n",
       "      <td>29</td>\n",
       "      <td>Thursday</td>\n",
       "      <td>0</td>\n",
       "    </tr>\n",
       "    <tr>\n",
       "      <th>1665</th>\n",
       "      <td>M</td>\n",
       "      <td>2016-03-30 09:16:41</td>\n",
       "      <td>2016-04-29</td>\n",
       "      <td>64</td>\n",
       "      <td>SANTA MARTHA</td>\n",
       "      <td>0</td>\n",
       "      <td>1</td>\n",
       "      <td>0</td>\n",
       "      <td>1</td>\n",
       "      <td>2</td>\n",
       "      <td>...</td>\n",
       "      <td>No</td>\n",
       "      <td>2016</td>\n",
       "      <td>3</td>\n",
       "      <td>30</td>\n",
       "      <td>2</td>\n",
       "      <td>2016</td>\n",
       "      <td>4</td>\n",
       "      <td>29</td>\n",
       "      <td>Wednesday</td>\n",
       "      <td>0</td>\n",
       "    </tr>\n",
       "    <tr>\n",
       "      <th>1666</th>\n",
       "      <td>M</td>\n",
       "      <td>2016-03-30 09:16:41</td>\n",
       "      <td>2016-04-29</td>\n",
       "      <td>64</td>\n",
       "      <td>SANTA MARTHA</td>\n",
       "      <td>0</td>\n",
       "      <td>1</td>\n",
       "      <td>0</td>\n",
       "      <td>1</td>\n",
       "      <td>2</td>\n",
       "      <td>...</td>\n",
       "      <td>No</td>\n",
       "      <td>2016</td>\n",
       "      <td>3</td>\n",
       "      <td>30</td>\n",
       "      <td>2</td>\n",
       "      <td>2016</td>\n",
       "      <td>4</td>\n",
       "      <td>29</td>\n",
       "      <td>Wednesday</td>\n",
       "      <td>0</td>\n",
       "    </tr>\n",
       "    <tr>\n",
       "      <th>2071</th>\n",
       "      <td>M</td>\n",
       "      <td>2016-04-29 10:08:48</td>\n",
       "      <td>2016-04-29</td>\n",
       "      <td>64</td>\n",
       "      <td>SANTA MARTHA</td>\n",
       "      <td>0</td>\n",
       "      <td>1</td>\n",
       "      <td>0</td>\n",
       "      <td>1</td>\n",
       "      <td>2</td>\n",
       "      <td>...</td>\n",
       "      <td>No</td>\n",
       "      <td>2016</td>\n",
       "      <td>4</td>\n",
       "      <td>29</td>\n",
       "      <td>4</td>\n",
       "      <td>2016</td>\n",
       "      <td>4</td>\n",
       "      <td>29</td>\n",
       "      <td>Friday</td>\n",
       "      <td>0</td>\n",
       "    </tr>\n",
       "    <tr>\n",
       "      <th>2091</th>\n",
       "      <td>F</td>\n",
       "      <td>2016-04-29 08:13:59</td>\n",
       "      <td>2016-04-29</td>\n",
       "      <td>11</td>\n",
       "      <td>ANDORINHAS</td>\n",
       "      <td>0</td>\n",
       "      <td>0</td>\n",
       "      <td>0</td>\n",
       "      <td>0</td>\n",
       "      <td>2</td>\n",
       "      <td>...</td>\n",
       "      <td>No</td>\n",
       "      <td>2016</td>\n",
       "      <td>4</td>\n",
       "      <td>29</td>\n",
       "      <td>4</td>\n",
       "      <td>2016</td>\n",
       "      <td>4</td>\n",
       "      <td>29</td>\n",
       "      <td>Friday</td>\n",
       "      <td>0</td>\n",
       "    </tr>\n",
       "    <tr>\n",
       "      <th>2213</th>\n",
       "      <td>F</td>\n",
       "      <td>2016-04-29 11:22:50</td>\n",
       "      <td>2016-04-29</td>\n",
       "      <td>29</td>\n",
       "      <td>VILA RUBIM</td>\n",
       "      <td>0</td>\n",
       "      <td>0</td>\n",
       "      <td>0</td>\n",
       "      <td>0</td>\n",
       "      <td>2</td>\n",
       "      <td>...</td>\n",
       "      <td>No</td>\n",
       "      <td>2016</td>\n",
       "      <td>4</td>\n",
       "      <td>29</td>\n",
       "      <td>4</td>\n",
       "      <td>2016</td>\n",
       "      <td>4</td>\n",
       "      <td>29</td>\n",
       "      <td>Friday</td>\n",
       "      <td>0</td>\n",
       "    </tr>\n",
       "    <tr>\n",
       "      <th>2214</th>\n",
       "      <td>M</td>\n",
       "      <td>2016-04-29 11:22:20</td>\n",
       "      <td>2016-04-29</td>\n",
       "      <td>55</td>\n",
       "      <td>DO QUADRO</td>\n",
       "      <td>0</td>\n",
       "      <td>0</td>\n",
       "      <td>0</td>\n",
       "      <td>0</td>\n",
       "      <td>3</td>\n",
       "      <td>...</td>\n",
       "      <td>No</td>\n",
       "      <td>2016</td>\n",
       "      <td>4</td>\n",
       "      <td>29</td>\n",
       "      <td>4</td>\n",
       "      <td>2016</td>\n",
       "      <td>4</td>\n",
       "      <td>29</td>\n",
       "      <td>Friday</td>\n",
       "      <td>0</td>\n",
       "    </tr>\n",
       "    <tr>\n",
       "      <th>2673</th>\n",
       "      <td>M</td>\n",
       "      <td>2016-04-15 13:06:05</td>\n",
       "      <td>2016-04-29</td>\n",
       "      <td>17</td>\n",
       "      <td>SANTA TEREZA</td>\n",
       "      <td>0</td>\n",
       "      <td>0</td>\n",
       "      <td>0</td>\n",
       "      <td>0</td>\n",
       "      <td>2</td>\n",
       "      <td>...</td>\n",
       "      <td>No</td>\n",
       "      <td>2016</td>\n",
       "      <td>4</td>\n",
       "      <td>15</td>\n",
       "      <td>4</td>\n",
       "      <td>2016</td>\n",
       "      <td>4</td>\n",
       "      <td>29</td>\n",
       "      <td>Friday</td>\n",
       "      <td>0</td>\n",
       "    </tr>\n",
       "    <tr>\n",
       "      <th>5424</th>\n",
       "      <td>M</td>\n",
       "      <td>2016-05-02 13:24:36</td>\n",
       "      <td>2016-05-04</td>\n",
       "      <td>65</td>\n",
       "      <td>SANTO ANDRÉ</td>\n",
       "      <td>0</td>\n",
       "      <td>1</td>\n",
       "      <td>1</td>\n",
       "      <td>1</td>\n",
       "      <td>2</td>\n",
       "      <td>...</td>\n",
       "      <td>Yes</td>\n",
       "      <td>2016</td>\n",
       "      <td>5</td>\n",
       "      <td>2</td>\n",
       "      <td>0</td>\n",
       "      <td>2016</td>\n",
       "      <td>5</td>\n",
       "      <td>4</td>\n",
       "      <td>Monday</td>\n",
       "      <td>1</td>\n",
       "    </tr>\n",
       "    <tr>\n",
       "      <th>5467</th>\n",
       "      <td>F</td>\n",
       "      <td>2016-05-12 09:10:28</td>\n",
       "      <td>2016-05-16</td>\n",
       "      <td>10</td>\n",
       "      <td>BENTO FERREIRA</td>\n",
       "      <td>0</td>\n",
       "      <td>0</td>\n",
       "      <td>0</td>\n",
       "      <td>0</td>\n",
       "      <td>2</td>\n",
       "      <td>...</td>\n",
       "      <td>No</td>\n",
       "      <td>2016</td>\n",
       "      <td>5</td>\n",
       "      <td>12</td>\n",
       "      <td>3</td>\n",
       "      <td>2016</td>\n",
       "      <td>5</td>\n",
       "      <td>16</td>\n",
       "      <td>Thursday</td>\n",
       "      <td>0</td>\n",
       "    </tr>\n",
       "    <tr>\n",
       "      <th>5475</th>\n",
       "      <td>F</td>\n",
       "      <td>2016-05-12 09:10:50</td>\n",
       "      <td>2016-05-16</td>\n",
       "      <td>34</td>\n",
       "      <td>JUCUTUQUARA</td>\n",
       "      <td>0</td>\n",
       "      <td>0</td>\n",
       "      <td>0</td>\n",
       "      <td>0</td>\n",
       "      <td>2</td>\n",
       "      <td>...</td>\n",
       "      <td>Yes</td>\n",
       "      <td>2016</td>\n",
       "      <td>5</td>\n",
       "      <td>12</td>\n",
       "      <td>3</td>\n",
       "      <td>2016</td>\n",
       "      <td>5</td>\n",
       "      <td>16</td>\n",
       "      <td>Thursday</td>\n",
       "      <td>1</td>\n",
       "    </tr>\n",
       "    <tr>\n",
       "      <th>5485</th>\n",
       "      <td>F</td>\n",
       "      <td>2016-05-05 10:23:26</td>\n",
       "      <td>2016-05-09</td>\n",
       "      <td>16</td>\n",
       "      <td>SANTA TEREZA</td>\n",
       "      <td>0</td>\n",
       "      <td>0</td>\n",
       "      <td>0</td>\n",
       "      <td>0</td>\n",
       "      <td>2</td>\n",
       "      <td>...</td>\n",
       "      <td>No</td>\n",
       "      <td>2016</td>\n",
       "      <td>5</td>\n",
       "      <td>5</td>\n",
       "      <td>3</td>\n",
       "      <td>2016</td>\n",
       "      <td>5</td>\n",
       "      <td>9</td>\n",
       "      <td>Thursday</td>\n",
       "      <td>0</td>\n",
       "    </tr>\n",
       "    <tr>\n",
       "      <th>5510</th>\n",
       "      <td>F</td>\n",
       "      <td>2016-05-04 11:06:48</td>\n",
       "      <td>2016-05-05</td>\n",
       "      <td>42</td>\n",
       "      <td>SÃO PEDRO</td>\n",
       "      <td>0</td>\n",
       "      <td>1</td>\n",
       "      <td>0</td>\n",
       "      <td>0</td>\n",
       "      <td>2</td>\n",
       "      <td>...</td>\n",
       "      <td>No</td>\n",
       "      <td>2016</td>\n",
       "      <td>5</td>\n",
       "      <td>4</td>\n",
       "      <td>2</td>\n",
       "      <td>2016</td>\n",
       "      <td>5</td>\n",
       "      <td>5</td>\n",
       "      <td>Wednesday</td>\n",
       "      <td>0</td>\n",
       "    </tr>\n",
       "    <tr>\n",
       "      <th>6067</th>\n",
       "      <td>F</td>\n",
       "      <td>2016-05-17 07:41:55</td>\n",
       "      <td>2016-05-19</td>\n",
       "      <td>10</td>\n",
       "      <td>RESISTÊNCIA</td>\n",
       "      <td>0</td>\n",
       "      <td>0</td>\n",
       "      <td>0</td>\n",
       "      <td>0</td>\n",
       "      <td>2</td>\n",
       "      <td>...</td>\n",
       "      <td>Yes</td>\n",
       "      <td>2016</td>\n",
       "      <td>5</td>\n",
       "      <td>17</td>\n",
       "      <td>1</td>\n",
       "      <td>2016</td>\n",
       "      <td>5</td>\n",
       "      <td>19</td>\n",
       "      <td>Tuesday</td>\n",
       "      <td>1</td>\n",
       "    </tr>\n",
       "    <tr>\n",
       "      <th>6156</th>\n",
       "      <td>F</td>\n",
       "      <td>2016-05-13 07:39:38</td>\n",
       "      <td>2016-05-17</td>\n",
       "      <td>29</td>\n",
       "      <td>SANTO ANTÔNIO</td>\n",
       "      <td>0</td>\n",
       "      <td>0</td>\n",
       "      <td>0</td>\n",
       "      <td>0</td>\n",
       "      <td>2</td>\n",
       "      <td>...</td>\n",
       "      <td>No</td>\n",
       "      <td>2016</td>\n",
       "      <td>5</td>\n",
       "      <td>13</td>\n",
       "      <td>4</td>\n",
       "      <td>2016</td>\n",
       "      <td>5</td>\n",
       "      <td>17</td>\n",
       "      <td>Friday</td>\n",
       "      <td>0</td>\n",
       "    </tr>\n",
       "    <tr>\n",
       "      <th>6401</th>\n",
       "      <td>F</td>\n",
       "      <td>2016-05-11 07:32:16</td>\n",
       "      <td>2016-05-13</td>\n",
       "      <td>19</td>\n",
       "      <td>VILA RUBIM</td>\n",
       "      <td>0</td>\n",
       "      <td>0</td>\n",
       "      <td>0</td>\n",
       "      <td>0</td>\n",
       "      <td>2</td>\n",
       "      <td>...</td>\n",
       "      <td>No</td>\n",
       "      <td>2016</td>\n",
       "      <td>5</td>\n",
       "      <td>11</td>\n",
       "      <td>2</td>\n",
       "      <td>2016</td>\n",
       "      <td>5</td>\n",
       "      <td>13</td>\n",
       "      <td>Wednesday</td>\n",
       "      <td>0</td>\n",
       "    </tr>\n",
       "    <tr>\n",
       "      <th>11227</th>\n",
       "      <td>M</td>\n",
       "      <td>2016-04-15 08:49:43</td>\n",
       "      <td>2016-05-19</td>\n",
       "      <td>18</td>\n",
       "      <td>RESISTÊNCIA</td>\n",
       "      <td>0</td>\n",
       "      <td>0</td>\n",
       "      <td>0</td>\n",
       "      <td>0</td>\n",
       "      <td>2</td>\n",
       "      <td>...</td>\n",
       "      <td>No</td>\n",
       "      <td>2016</td>\n",
       "      <td>4</td>\n",
       "      <td>15</td>\n",
       "      <td>4</td>\n",
       "      <td>2016</td>\n",
       "      <td>5</td>\n",
       "      <td>19</td>\n",
       "      <td>Friday</td>\n",
       "      <td>0</td>\n",
       "    </tr>\n",
       "    <tr>\n",
       "      <th>11230</th>\n",
       "      <td>M</td>\n",
       "      <td>2016-03-18 15:02:00</td>\n",
       "      <td>2016-05-19</td>\n",
       "      <td>18</td>\n",
       "      <td>RESISTÊNCIA</td>\n",
       "      <td>0</td>\n",
       "      <td>0</td>\n",
       "      <td>0</td>\n",
       "      <td>0</td>\n",
       "      <td>2</td>\n",
       "      <td>...</td>\n",
       "      <td>No</td>\n",
       "      <td>2016</td>\n",
       "      <td>3</td>\n",
       "      <td>18</td>\n",
       "      <td>4</td>\n",
       "      <td>2016</td>\n",
       "      <td>5</td>\n",
       "      <td>19</td>\n",
       "      <td>Friday</td>\n",
       "      <td>0</td>\n",
       "    </tr>\n",
       "    <tr>\n",
       "      <th>14847</th>\n",
       "      <td>M</td>\n",
       "      <td>2016-04-05 09:04:49</td>\n",
       "      <td>2016-05-05</td>\n",
       "      <td>17</td>\n",
       "      <td>SANTA TEREZA</td>\n",
       "      <td>0</td>\n",
       "      <td>0</td>\n",
       "      <td>0</td>\n",
       "      <td>0</td>\n",
       "      <td>2</td>\n",
       "      <td>...</td>\n",
       "      <td>No</td>\n",
       "      <td>2016</td>\n",
       "      <td>4</td>\n",
       "      <td>5</td>\n",
       "      <td>1</td>\n",
       "      <td>2016</td>\n",
       "      <td>5</td>\n",
       "      <td>5</td>\n",
       "      <td>Tuesday</td>\n",
       "      <td>0</td>\n",
       "    </tr>\n",
       "    <tr>\n",
       "      <th>15839</th>\n",
       "      <td>F</td>\n",
       "      <td>2016-05-02 09:46:27</td>\n",
       "      <td>2016-05-12</td>\n",
       "      <td>52</td>\n",
       "      <td>DE LOURDES</td>\n",
       "      <td>0</td>\n",
       "      <td>1</td>\n",
       "      <td>0</td>\n",
       "      <td>0</td>\n",
       "      <td>2</td>\n",
       "      <td>...</td>\n",
       "      <td>No</td>\n",
       "      <td>2016</td>\n",
       "      <td>5</td>\n",
       "      <td>2</td>\n",
       "      <td>0</td>\n",
       "      <td>2016</td>\n",
       "      <td>5</td>\n",
       "      <td>12</td>\n",
       "      <td>Monday</td>\n",
       "      <td>0</td>\n",
       "    </tr>\n",
       "    <tr>\n",
       "      <th>15845</th>\n",
       "      <td>F</td>\n",
       "      <td>2016-05-02 09:46:40</td>\n",
       "      <td>2016-05-12</td>\n",
       "      <td>52</td>\n",
       "      <td>DE LOURDES</td>\n",
       "      <td>0</td>\n",
       "      <td>1</td>\n",
       "      <td>0</td>\n",
       "      <td>0</td>\n",
       "      <td>2</td>\n",
       "      <td>...</td>\n",
       "      <td>No</td>\n",
       "      <td>2016</td>\n",
       "      <td>5</td>\n",
       "      <td>2</td>\n",
       "      <td>0</td>\n",
       "      <td>2016</td>\n",
       "      <td>5</td>\n",
       "      <td>12</td>\n",
       "      <td>Monday</td>\n",
       "      <td>0</td>\n",
       "    </tr>\n",
       "    <tr>\n",
       "      <th>16632</th>\n",
       "      <td>F</td>\n",
       "      <td>2016-05-02 08:04:06</td>\n",
       "      <td>2016-05-09</td>\n",
       "      <td>32</td>\n",
       "      <td>SANTA MARTHA</td>\n",
       "      <td>0</td>\n",
       "      <td>0</td>\n",
       "      <td>0</td>\n",
       "      <td>0</td>\n",
       "      <td>2</td>\n",
       "      <td>...</td>\n",
       "      <td>No</td>\n",
       "      <td>2016</td>\n",
       "      <td>5</td>\n",
       "      <td>2</td>\n",
       "      <td>0</td>\n",
       "      <td>2016</td>\n",
       "      <td>5</td>\n",
       "      <td>9</td>\n",
       "      <td>Monday</td>\n",
       "      <td>0</td>\n",
       "    </tr>\n",
       "    <tr>\n",
       "      <th>16634</th>\n",
       "      <td>F</td>\n",
       "      <td>2016-04-27 12:03:16</td>\n",
       "      <td>2016-05-02</td>\n",
       "      <td>32</td>\n",
       "      <td>SANTA MARTHA</td>\n",
       "      <td>0</td>\n",
       "      <td>0</td>\n",
       "      <td>0</td>\n",
       "      <td>0</td>\n",
       "      <td>2</td>\n",
       "      <td>...</td>\n",
       "      <td>Yes</td>\n",
       "      <td>2016</td>\n",
       "      <td>4</td>\n",
       "      <td>27</td>\n",
       "      <td>2</td>\n",
       "      <td>2016</td>\n",
       "      <td>5</td>\n",
       "      <td>2</td>\n",
       "      <td>Wednesday</td>\n",
       "      <td>1</td>\n",
       "    </tr>\n",
       "    <tr>\n",
       "      <th>16635</th>\n",
       "      <td>F</td>\n",
       "      <td>2016-05-02 08:04:06</td>\n",
       "      <td>2016-05-09</td>\n",
       "      <td>32</td>\n",
       "      <td>SANTA MARTHA</td>\n",
       "      <td>0</td>\n",
       "      <td>0</td>\n",
       "      <td>0</td>\n",
       "      <td>0</td>\n",
       "      <td>2</td>\n",
       "      <td>...</td>\n",
       "      <td>No</td>\n",
       "      <td>2016</td>\n",
       "      <td>5</td>\n",
       "      <td>2</td>\n",
       "      <td>0</td>\n",
       "      <td>2016</td>\n",
       "      <td>5</td>\n",
       "      <td>9</td>\n",
       "      <td>Monday</td>\n",
       "      <td>0</td>\n",
       "    </tr>\n",
       "    <tr>\n",
       "      <th>16636</th>\n",
       "      <td>F</td>\n",
       "      <td>2016-04-27 12:01:01</td>\n",
       "      <td>2016-05-02</td>\n",
       "      <td>32</td>\n",
       "      <td>SANTA MARTHA</td>\n",
       "      <td>0</td>\n",
       "      <td>0</td>\n",
       "      <td>0</td>\n",
       "      <td>0</td>\n",
       "      <td>2</td>\n",
       "      <td>...</td>\n",
       "      <td>Yes</td>\n",
       "      <td>2016</td>\n",
       "      <td>4</td>\n",
       "      <td>27</td>\n",
       "      <td>2</td>\n",
       "      <td>2016</td>\n",
       "      <td>5</td>\n",
       "      <td>2</td>\n",
       "      <td>Wednesday</td>\n",
       "      <td>1</td>\n",
       "    </tr>\n",
       "    <tr>\n",
       "      <th>17862</th>\n",
       "      <td>F</td>\n",
       "      <td>2016-05-06 07:59:24</td>\n",
       "      <td>2016-05-06</td>\n",
       "      <td>37</td>\n",
       "      <td>SANTO ANDRÉ</td>\n",
       "      <td>0</td>\n",
       "      <td>0</td>\n",
       "      <td>0</td>\n",
       "      <td>0</td>\n",
       "      <td>2</td>\n",
       "      <td>...</td>\n",
       "      <td>No</td>\n",
       "      <td>2016</td>\n",
       "      <td>5</td>\n",
       "      <td>6</td>\n",
       "      <td>4</td>\n",
       "      <td>2016</td>\n",
       "      <td>5</td>\n",
       "      <td>6</td>\n",
       "      <td>Friday</td>\n",
       "      <td>0</td>\n",
       "    </tr>\n",
       "    <tr>\n",
       "      <th>18241</th>\n",
       "      <td>M</td>\n",
       "      <td>2016-04-28 11:58:14</td>\n",
       "      <td>2016-05-04</td>\n",
       "      <td>4</td>\n",
       "      <td>PRAIA DO SUÁ</td>\n",
       "      <td>0</td>\n",
       "      <td>0</td>\n",
       "      <td>0</td>\n",
       "      <td>0</td>\n",
       "      <td>2</td>\n",
       "      <td>...</td>\n",
       "      <td>No</td>\n",
       "      <td>2016</td>\n",
       "      <td>4</td>\n",
       "      <td>28</td>\n",
       "      <td>3</td>\n",
       "      <td>2016</td>\n",
       "      <td>5</td>\n",
       "      <td>4</td>\n",
       "      <td>Thursday</td>\n",
       "      <td>0</td>\n",
       "    </tr>\n",
       "    <tr>\n",
       "      <th>19264</th>\n",
       "      <td>F</td>\n",
       "      <td>2016-04-26 09:39:37</td>\n",
       "      <td>2016-05-10</td>\n",
       "      <td>89</td>\n",
       "      <td>ILHA DO PRÍNCIPE</td>\n",
       "      <td>0</td>\n",
       "      <td>1</td>\n",
       "      <td>0</td>\n",
       "      <td>0</td>\n",
       "      <td>2</td>\n",
       "      <td>...</td>\n",
       "      <td>Yes</td>\n",
       "      <td>2016</td>\n",
       "      <td>4</td>\n",
       "      <td>26</td>\n",
       "      <td>1</td>\n",
       "      <td>2016</td>\n",
       "      <td>5</td>\n",
       "      <td>10</td>\n",
       "      <td>Tuesday</td>\n",
       "      <td>1</td>\n",
       "    </tr>\n",
       "    <tr>\n",
       "      <th>19915</th>\n",
       "      <td>M</td>\n",
       "      <td>2016-04-27 08:25:25</td>\n",
       "      <td>2016-05-11</td>\n",
       "      <td>16</td>\n",
       "      <td>BELA VISTA</td>\n",
       "      <td>0</td>\n",
       "      <td>0</td>\n",
       "      <td>0</td>\n",
       "      <td>0</td>\n",
       "      <td>2</td>\n",
       "      <td>...</td>\n",
       "      <td>No</td>\n",
       "      <td>2016</td>\n",
       "      <td>4</td>\n",
       "      <td>27</td>\n",
       "      <td>2</td>\n",
       "      <td>2016</td>\n",
       "      <td>5</td>\n",
       "      <td>11</td>\n",
       "      <td>Wednesday</td>\n",
       "      <td>0</td>\n",
       "    </tr>\n",
       "    <tr>\n",
       "      <th>19981</th>\n",
       "      <td>M</td>\n",
       "      <td>2016-05-09 15:27:02</td>\n",
       "      <td>2016-05-12</td>\n",
       "      <td>89</td>\n",
       "      <td>BELA VISTA</td>\n",
       "      <td>0</td>\n",
       "      <td>1</td>\n",
       "      <td>1</td>\n",
       "      <td>0</td>\n",
       "      <td>2</td>\n",
       "      <td>...</td>\n",
       "      <td>No</td>\n",
       "      <td>2016</td>\n",
       "      <td>5</td>\n",
       "      <td>9</td>\n",
       "      <td>0</td>\n",
       "      <td>2016</td>\n",
       "      <td>5</td>\n",
       "      <td>12</td>\n",
       "      <td>Monday</td>\n",
       "      <td>0</td>\n",
       "    </tr>\n",
       "    <tr>\n",
       "      <th>...</th>\n",
       "      <td>...</td>\n",
       "      <td>...</td>\n",
       "      <td>...</td>\n",
       "      <td>...</td>\n",
       "      <td>...</td>\n",
       "      <td>...</td>\n",
       "      <td>...</td>\n",
       "      <td>...</td>\n",
       "      <td>...</td>\n",
       "      <td>...</td>\n",
       "      <td>...</td>\n",
       "      <td>...</td>\n",
       "      <td>...</td>\n",
       "      <td>...</td>\n",
       "      <td>...</td>\n",
       "      <td>...</td>\n",
       "      <td>...</td>\n",
       "      <td>...</td>\n",
       "      <td>...</td>\n",
       "      <td>...</td>\n",
       "      <td>...</td>\n",
       "    </tr>\n",
       "    <tr>\n",
       "      <th>96173</th>\n",
       "      <td>M</td>\n",
       "      <td>2016-05-10 10:57:48</td>\n",
       "      <td>2016-06-07</td>\n",
       "      <td>82</td>\n",
       "      <td>MATA DA PRAIA</td>\n",
       "      <td>0</td>\n",
       "      <td>1</td>\n",
       "      <td>0</td>\n",
       "      <td>0</td>\n",
       "      <td>2</td>\n",
       "      <td>...</td>\n",
       "      <td>No</td>\n",
       "      <td>2016</td>\n",
       "      <td>5</td>\n",
       "      <td>10</td>\n",
       "      <td>1</td>\n",
       "      <td>2016</td>\n",
       "      <td>6</td>\n",
       "      <td>7</td>\n",
       "      <td>Tuesday</td>\n",
       "      <td>0</td>\n",
       "    </tr>\n",
       "    <tr>\n",
       "      <th>96457</th>\n",
       "      <td>M</td>\n",
       "      <td>2016-06-06 15:02:34</td>\n",
       "      <td>2016-06-07</td>\n",
       "      <td>29</td>\n",
       "      <td>JARDIM DA PENHA</td>\n",
       "      <td>0</td>\n",
       "      <td>0</td>\n",
       "      <td>0</td>\n",
       "      <td>0</td>\n",
       "      <td>2</td>\n",
       "      <td>...</td>\n",
       "      <td>No</td>\n",
       "      <td>2016</td>\n",
       "      <td>6</td>\n",
       "      <td>6</td>\n",
       "      <td>0</td>\n",
       "      <td>2016</td>\n",
       "      <td>6</td>\n",
       "      <td>7</td>\n",
       "      <td>Monday</td>\n",
       "      <td>0</td>\n",
       "    </tr>\n",
       "    <tr>\n",
       "      <th>96831</th>\n",
       "      <td>F</td>\n",
       "      <td>2016-05-19 14:08:28</td>\n",
       "      <td>2016-06-02</td>\n",
       "      <td>97</td>\n",
       "      <td>MARUÍPE</td>\n",
       "      <td>0</td>\n",
       "      <td>1</td>\n",
       "      <td>0</td>\n",
       "      <td>0</td>\n",
       "      <td>2</td>\n",
       "      <td>...</td>\n",
       "      <td>No</td>\n",
       "      <td>2016</td>\n",
       "      <td>5</td>\n",
       "      <td>19</td>\n",
       "      <td>3</td>\n",
       "      <td>2016</td>\n",
       "      <td>6</td>\n",
       "      <td>2</td>\n",
       "      <td>Thursday</td>\n",
       "      <td>0</td>\n",
       "    </tr>\n",
       "    <tr>\n",
       "      <th>97998</th>\n",
       "      <td>F</td>\n",
       "      <td>2016-06-02 09:21:08</td>\n",
       "      <td>2016-06-02</td>\n",
       "      <td>8</td>\n",
       "      <td>TABUAZEIRO</td>\n",
       "      <td>0</td>\n",
       "      <td>0</td>\n",
       "      <td>0</td>\n",
       "      <td>0</td>\n",
       "      <td>2</td>\n",
       "      <td>...</td>\n",
       "      <td>No</td>\n",
       "      <td>2016</td>\n",
       "      <td>6</td>\n",
       "      <td>2</td>\n",
       "      <td>3</td>\n",
       "      <td>2016</td>\n",
       "      <td>6</td>\n",
       "      <td>2</td>\n",
       "      <td>Thursday</td>\n",
       "      <td>0</td>\n",
       "    </tr>\n",
       "    <tr>\n",
       "      <th>98045</th>\n",
       "      <td>F</td>\n",
       "      <td>2016-06-07 14:56:08</td>\n",
       "      <td>2016-06-07</td>\n",
       "      <td>52</td>\n",
       "      <td>DE LOURDES</td>\n",
       "      <td>0</td>\n",
       "      <td>1</td>\n",
       "      <td>0</td>\n",
       "      <td>0</td>\n",
       "      <td>2</td>\n",
       "      <td>...</td>\n",
       "      <td>No</td>\n",
       "      <td>2016</td>\n",
       "      <td>6</td>\n",
       "      <td>7</td>\n",
       "      <td>1</td>\n",
       "      <td>2016</td>\n",
       "      <td>6</td>\n",
       "      <td>7</td>\n",
       "      <td>Tuesday</td>\n",
       "      <td>0</td>\n",
       "    </tr>\n",
       "    <tr>\n",
       "      <th>98538</th>\n",
       "      <td>M</td>\n",
       "      <td>2016-06-01 15:11:25</td>\n",
       "      <td>2016-06-03</td>\n",
       "      <td>19</td>\n",
       "      <td>SÃO PEDRO</td>\n",
       "      <td>0</td>\n",
       "      <td>0</td>\n",
       "      <td>0</td>\n",
       "      <td>0</td>\n",
       "      <td>4</td>\n",
       "      <td>...</td>\n",
       "      <td>No</td>\n",
       "      <td>2016</td>\n",
       "      <td>6</td>\n",
       "      <td>1</td>\n",
       "      <td>2</td>\n",
       "      <td>2016</td>\n",
       "      <td>6</td>\n",
       "      <td>3</td>\n",
       "      <td>Wednesday</td>\n",
       "      <td>0</td>\n",
       "    </tr>\n",
       "    <tr>\n",
       "      <th>99455</th>\n",
       "      <td>F</td>\n",
       "      <td>2016-06-02 11:06:13</td>\n",
       "      <td>2016-06-02</td>\n",
       "      <td>40</td>\n",
       "      <td>DO QUADRO</td>\n",
       "      <td>0</td>\n",
       "      <td>0</td>\n",
       "      <td>0</td>\n",
       "      <td>0</td>\n",
       "      <td>2</td>\n",
       "      <td>...</td>\n",
       "      <td>No</td>\n",
       "      <td>2016</td>\n",
       "      <td>6</td>\n",
       "      <td>2</td>\n",
       "      <td>3</td>\n",
       "      <td>2016</td>\n",
       "      <td>6</td>\n",
       "      <td>2</td>\n",
       "      <td>Thursday</td>\n",
       "      <td>0</td>\n",
       "    </tr>\n",
       "    <tr>\n",
       "      <th>100538</th>\n",
       "      <td>M</td>\n",
       "      <td>2016-06-07 09:27:29</td>\n",
       "      <td>2016-06-07</td>\n",
       "      <td>11</td>\n",
       "      <td>GOIABEIRAS</td>\n",
       "      <td>1</td>\n",
       "      <td>0</td>\n",
       "      <td>0</td>\n",
       "      <td>0</td>\n",
       "      <td>2</td>\n",
       "      <td>...</td>\n",
       "      <td>No</td>\n",
       "      <td>2016</td>\n",
       "      <td>6</td>\n",
       "      <td>7</td>\n",
       "      <td>1</td>\n",
       "      <td>2016</td>\n",
       "      <td>6</td>\n",
       "      <td>7</td>\n",
       "      <td>Tuesday</td>\n",
       "      <td>0</td>\n",
       "    </tr>\n",
       "    <tr>\n",
       "      <th>101074</th>\n",
       "      <td>F</td>\n",
       "      <td>2016-05-09 09:00:57</td>\n",
       "      <td>2016-06-07</td>\n",
       "      <td>33</td>\n",
       "      <td>SANTA MARTHA</td>\n",
       "      <td>0</td>\n",
       "      <td>0</td>\n",
       "      <td>0</td>\n",
       "      <td>0</td>\n",
       "      <td>2</td>\n",
       "      <td>...</td>\n",
       "      <td>No</td>\n",
       "      <td>2016</td>\n",
       "      <td>5</td>\n",
       "      <td>9</td>\n",
       "      <td>0</td>\n",
       "      <td>2016</td>\n",
       "      <td>6</td>\n",
       "      <td>7</td>\n",
       "      <td>Monday</td>\n",
       "      <td>0</td>\n",
       "    </tr>\n",
       "    <tr>\n",
       "      <th>101911</th>\n",
       "      <td>M</td>\n",
       "      <td>2016-06-07 11:10:08</td>\n",
       "      <td>2016-06-07</td>\n",
       "      <td>84</td>\n",
       "      <td>RESISTÊNCIA</td>\n",
       "      <td>0</td>\n",
       "      <td>1</td>\n",
       "      <td>0</td>\n",
       "      <td>0</td>\n",
       "      <td>2</td>\n",
       "      <td>...</td>\n",
       "      <td>Yes</td>\n",
       "      <td>2016</td>\n",
       "      <td>6</td>\n",
       "      <td>7</td>\n",
       "      <td>1</td>\n",
       "      <td>2016</td>\n",
       "      <td>6</td>\n",
       "      <td>7</td>\n",
       "      <td>Tuesday</td>\n",
       "      <td>1</td>\n",
       "    </tr>\n",
       "    <tr>\n",
       "      <th>101912</th>\n",
       "      <td>M</td>\n",
       "      <td>2016-06-07 11:09:45</td>\n",
       "      <td>2016-06-07</td>\n",
       "      <td>84</td>\n",
       "      <td>RESISTÊNCIA</td>\n",
       "      <td>0</td>\n",
       "      <td>1</td>\n",
       "      <td>0</td>\n",
       "      <td>0</td>\n",
       "      <td>2</td>\n",
       "      <td>...</td>\n",
       "      <td>No</td>\n",
       "      <td>2016</td>\n",
       "      <td>6</td>\n",
       "      <td>7</td>\n",
       "      <td>1</td>\n",
       "      <td>2016</td>\n",
       "      <td>6</td>\n",
       "      <td>7</td>\n",
       "      <td>Tuesday</td>\n",
       "      <td>0</td>\n",
       "    </tr>\n",
       "    <tr>\n",
       "      <th>101913</th>\n",
       "      <td>M</td>\n",
       "      <td>2016-06-07 11:10:22</td>\n",
       "      <td>2016-06-07</td>\n",
       "      <td>84</td>\n",
       "      <td>RESISTÊNCIA</td>\n",
       "      <td>0</td>\n",
       "      <td>1</td>\n",
       "      <td>0</td>\n",
       "      <td>0</td>\n",
       "      <td>2</td>\n",
       "      <td>...</td>\n",
       "      <td>Yes</td>\n",
       "      <td>2016</td>\n",
       "      <td>6</td>\n",
       "      <td>7</td>\n",
       "      <td>1</td>\n",
       "      <td>2016</td>\n",
       "      <td>6</td>\n",
       "      <td>7</td>\n",
       "      <td>Tuesday</td>\n",
       "      <td>1</td>\n",
       "    </tr>\n",
       "    <tr>\n",
       "      <th>101949</th>\n",
       "      <td>M</td>\n",
       "      <td>2016-06-06 15:14:05</td>\n",
       "      <td>2016-06-08</td>\n",
       "      <td>12</td>\n",
       "      <td>ESTRELINHA</td>\n",
       "      <td>0</td>\n",
       "      <td>0</td>\n",
       "      <td>0</td>\n",
       "      <td>0</td>\n",
       "      <td>2</td>\n",
       "      <td>...</td>\n",
       "      <td>Yes</td>\n",
       "      <td>2016</td>\n",
       "      <td>6</td>\n",
       "      <td>6</td>\n",
       "      <td>0</td>\n",
       "      <td>2016</td>\n",
       "      <td>6</td>\n",
       "      <td>8</td>\n",
       "      <td>Monday</td>\n",
       "      <td>1</td>\n",
       "    </tr>\n",
       "    <tr>\n",
       "      <th>102276</th>\n",
       "      <td>M</td>\n",
       "      <td>2016-06-06 14:02:28</td>\n",
       "      <td>2016-06-06</td>\n",
       "      <td>89</td>\n",
       "      <td>BELA VISTA</td>\n",
       "      <td>0</td>\n",
       "      <td>1</td>\n",
       "      <td>1</td>\n",
       "      <td>0</td>\n",
       "      <td>2</td>\n",
       "      <td>...</td>\n",
       "      <td>No</td>\n",
       "      <td>2016</td>\n",
       "      <td>6</td>\n",
       "      <td>6</td>\n",
       "      <td>0</td>\n",
       "      <td>2016</td>\n",
       "      <td>6</td>\n",
       "      <td>6</td>\n",
       "      <td>Monday</td>\n",
       "      <td>0</td>\n",
       "    </tr>\n",
       "    <tr>\n",
       "      <th>102360</th>\n",
       "      <td>F</td>\n",
       "      <td>2016-06-01 09:00:14</td>\n",
       "      <td>2016-06-01</td>\n",
       "      <td>44</td>\n",
       "      <td>ROMÃO</td>\n",
       "      <td>0</td>\n",
       "      <td>1</td>\n",
       "      <td>1</td>\n",
       "      <td>0</td>\n",
       "      <td>2</td>\n",
       "      <td>...</td>\n",
       "      <td>No</td>\n",
       "      <td>2016</td>\n",
       "      <td>6</td>\n",
       "      <td>1</td>\n",
       "      <td>2</td>\n",
       "      <td>2016</td>\n",
       "      <td>6</td>\n",
       "      <td>1</td>\n",
       "      <td>Wednesday</td>\n",
       "      <td>0</td>\n",
       "    </tr>\n",
       "    <tr>\n",
       "      <th>102955</th>\n",
       "      <td>F</td>\n",
       "      <td>2016-06-06 10:45:58</td>\n",
       "      <td>2016-06-06</td>\n",
       "      <td>15</td>\n",
       "      <td>JOANA D´ARC</td>\n",
       "      <td>1</td>\n",
       "      <td>0</td>\n",
       "      <td>0</td>\n",
       "      <td>0</td>\n",
       "      <td>2</td>\n",
       "      <td>...</td>\n",
       "      <td>No</td>\n",
       "      <td>2016</td>\n",
       "      <td>6</td>\n",
       "      <td>6</td>\n",
       "      <td>0</td>\n",
       "      <td>2016</td>\n",
       "      <td>6</td>\n",
       "      <td>6</td>\n",
       "      <td>Monday</td>\n",
       "      <td>0</td>\n",
       "    </tr>\n",
       "    <tr>\n",
       "      <th>104268</th>\n",
       "      <td>F</td>\n",
       "      <td>2016-05-13 15:01:17</td>\n",
       "      <td>2016-06-02</td>\n",
       "      <td>9</td>\n",
       "      <td>ITARARÉ</td>\n",
       "      <td>0</td>\n",
       "      <td>0</td>\n",
       "      <td>0</td>\n",
       "      <td>0</td>\n",
       "      <td>4</td>\n",
       "      <td>...</td>\n",
       "      <td>Yes</td>\n",
       "      <td>2016</td>\n",
       "      <td>5</td>\n",
       "      <td>13</td>\n",
       "      <td>4</td>\n",
       "      <td>2016</td>\n",
       "      <td>6</td>\n",
       "      <td>2</td>\n",
       "      <td>Friday</td>\n",
       "      <td>1</td>\n",
       "    </tr>\n",
       "    <tr>\n",
       "      <th>104927</th>\n",
       "      <td>M</td>\n",
       "      <td>2016-05-24 16:35:44</td>\n",
       "      <td>2016-06-01</td>\n",
       "      <td>70</td>\n",
       "      <td>ANDORINHAS</td>\n",
       "      <td>0</td>\n",
       "      <td>0</td>\n",
       "      <td>0</td>\n",
       "      <td>1</td>\n",
       "      <td>3</td>\n",
       "      <td>...</td>\n",
       "      <td>No</td>\n",
       "      <td>2016</td>\n",
       "      <td>5</td>\n",
       "      <td>24</td>\n",
       "      <td>1</td>\n",
       "      <td>2016</td>\n",
       "      <td>6</td>\n",
       "      <td>1</td>\n",
       "      <td>Tuesday</td>\n",
       "      <td>0</td>\n",
       "    </tr>\n",
       "    <tr>\n",
       "      <th>104931</th>\n",
       "      <td>M</td>\n",
       "      <td>2016-05-24 16:35:44</td>\n",
       "      <td>2016-06-01</td>\n",
       "      <td>70</td>\n",
       "      <td>ANDORINHAS</td>\n",
       "      <td>0</td>\n",
       "      <td>0</td>\n",
       "      <td>0</td>\n",
       "      <td>1</td>\n",
       "      <td>3</td>\n",
       "      <td>...</td>\n",
       "      <td>No</td>\n",
       "      <td>2016</td>\n",
       "      <td>5</td>\n",
       "      <td>24</td>\n",
       "      <td>1</td>\n",
       "      <td>2016</td>\n",
       "      <td>6</td>\n",
       "      <td>1</td>\n",
       "      <td>Tuesday</td>\n",
       "      <td>0</td>\n",
       "    </tr>\n",
       "    <tr>\n",
       "      <th>104932</th>\n",
       "      <td>M</td>\n",
       "      <td>2016-05-24 16:35:44</td>\n",
       "      <td>2016-06-01</td>\n",
       "      <td>70</td>\n",
       "      <td>ANDORINHAS</td>\n",
       "      <td>0</td>\n",
       "      <td>0</td>\n",
       "      <td>0</td>\n",
       "      <td>1</td>\n",
       "      <td>3</td>\n",
       "      <td>...</td>\n",
       "      <td>No</td>\n",
       "      <td>2016</td>\n",
       "      <td>5</td>\n",
       "      <td>24</td>\n",
       "      <td>1</td>\n",
       "      <td>2016</td>\n",
       "      <td>6</td>\n",
       "      <td>1</td>\n",
       "      <td>Tuesday</td>\n",
       "      <td>0</td>\n",
       "    </tr>\n",
       "    <tr>\n",
       "      <th>105008</th>\n",
       "      <td>F</td>\n",
       "      <td>2016-06-07 09:03:12</td>\n",
       "      <td>2016-06-07</td>\n",
       "      <td>37</td>\n",
       "      <td>SANTO ANDRÉ</td>\n",
       "      <td>0</td>\n",
       "      <td>0</td>\n",
       "      <td>0</td>\n",
       "      <td>0</td>\n",
       "      <td>2</td>\n",
       "      <td>...</td>\n",
       "      <td>No</td>\n",
       "      <td>2016</td>\n",
       "      <td>6</td>\n",
       "      <td>7</td>\n",
       "      <td>1</td>\n",
       "      <td>2016</td>\n",
       "      <td>6</td>\n",
       "      <td>7</td>\n",
       "      <td>Tuesday</td>\n",
       "      <td>0</td>\n",
       "    </tr>\n",
       "    <tr>\n",
       "      <th>105073</th>\n",
       "      <td>F</td>\n",
       "      <td>2016-05-16 07:20:46</td>\n",
       "      <td>2016-06-01</td>\n",
       "      <td>35</td>\n",
       "      <td>BELA VISTA</td>\n",
       "      <td>1</td>\n",
       "      <td>0</td>\n",
       "      <td>1</td>\n",
       "      <td>0</td>\n",
       "      <td>2</td>\n",
       "      <td>...</td>\n",
       "      <td>No</td>\n",
       "      <td>2016</td>\n",
       "      <td>5</td>\n",
       "      <td>16</td>\n",
       "      <td>0</td>\n",
       "      <td>2016</td>\n",
       "      <td>6</td>\n",
       "      <td>1</td>\n",
       "      <td>Monday</td>\n",
       "      <td>0</td>\n",
       "    </tr>\n",
       "    <tr>\n",
       "      <th>105322</th>\n",
       "      <td>M</td>\n",
       "      <td>2016-06-01 07:23:50</td>\n",
       "      <td>2016-06-01</td>\n",
       "      <td>6</td>\n",
       "      <td>SANTA CLARA</td>\n",
       "      <td>0</td>\n",
       "      <td>0</td>\n",
       "      <td>0</td>\n",
       "      <td>0</td>\n",
       "      <td>2</td>\n",
       "      <td>...</td>\n",
       "      <td>No</td>\n",
       "      <td>2016</td>\n",
       "      <td>6</td>\n",
       "      <td>1</td>\n",
       "      <td>2</td>\n",
       "      <td>2016</td>\n",
       "      <td>6</td>\n",
       "      <td>1</td>\n",
       "      <td>Wednesday</td>\n",
       "      <td>0</td>\n",
       "    </tr>\n",
       "    <tr>\n",
       "      <th>105753</th>\n",
       "      <td>M</td>\n",
       "      <td>2016-05-31 14:41:50</td>\n",
       "      <td>2016-06-02</td>\n",
       "      <td>32</td>\n",
       "      <td>REDENÇÃO</td>\n",
       "      <td>0</td>\n",
       "      <td>0</td>\n",
       "      <td>0</td>\n",
       "      <td>0</td>\n",
       "      <td>2</td>\n",
       "      <td>...</td>\n",
       "      <td>No</td>\n",
       "      <td>2016</td>\n",
       "      <td>5</td>\n",
       "      <td>31</td>\n",
       "      <td>1</td>\n",
       "      <td>2016</td>\n",
       "      <td>6</td>\n",
       "      <td>2</td>\n",
       "      <td>Tuesday</td>\n",
       "      <td>0</td>\n",
       "    </tr>\n",
       "    <tr>\n",
       "      <th>108335</th>\n",
       "      <td>M</td>\n",
       "      <td>2016-06-03 09:11:46</td>\n",
       "      <td>2016-06-08</td>\n",
       "      <td>45</td>\n",
       "      <td>ROMÃO</td>\n",
       "      <td>0</td>\n",
       "      <td>0</td>\n",
       "      <td>0</td>\n",
       "      <td>0</td>\n",
       "      <td>2</td>\n",
       "      <td>...</td>\n",
       "      <td>No</td>\n",
       "      <td>2016</td>\n",
       "      <td>6</td>\n",
       "      <td>3</td>\n",
       "      <td>4</td>\n",
       "      <td>2016</td>\n",
       "      <td>6</td>\n",
       "      <td>8</td>\n",
       "      <td>Friday</td>\n",
       "      <td>0</td>\n",
       "    </tr>\n",
       "    <tr>\n",
       "      <th>108376</th>\n",
       "      <td>F</td>\n",
       "      <td>2016-06-01 08:48:28</td>\n",
       "      <td>2016-06-07</td>\n",
       "      <td>44</td>\n",
       "      <td>ROMÃO</td>\n",
       "      <td>0</td>\n",
       "      <td>1</td>\n",
       "      <td>1</td>\n",
       "      <td>0</td>\n",
       "      <td>2</td>\n",
       "      <td>...</td>\n",
       "      <td>No</td>\n",
       "      <td>2016</td>\n",
       "      <td>6</td>\n",
       "      <td>1</td>\n",
       "      <td>2</td>\n",
       "      <td>2016</td>\n",
       "      <td>6</td>\n",
       "      <td>7</td>\n",
       "      <td>Wednesday</td>\n",
       "      <td>0</td>\n",
       "    </tr>\n",
       "    <tr>\n",
       "      <th>109484</th>\n",
       "      <td>M</td>\n",
       "      <td>2016-05-31 11:45:57</td>\n",
       "      <td>2016-06-02</td>\n",
       "      <td>64</td>\n",
       "      <td>DA PENHA</td>\n",
       "      <td>0</td>\n",
       "      <td>1</td>\n",
       "      <td>1</td>\n",
       "      <td>0</td>\n",
       "      <td>2</td>\n",
       "      <td>...</td>\n",
       "      <td>No</td>\n",
       "      <td>2016</td>\n",
       "      <td>5</td>\n",
       "      <td>31</td>\n",
       "      <td>1</td>\n",
       "      <td>2016</td>\n",
       "      <td>6</td>\n",
       "      <td>2</td>\n",
       "      <td>Tuesday</td>\n",
       "      <td>0</td>\n",
       "    </tr>\n",
       "    <tr>\n",
       "      <th>109733</th>\n",
       "      <td>F</td>\n",
       "      <td>2016-06-03 16:11:00</td>\n",
       "      <td>2016-06-07</td>\n",
       "      <td>34</td>\n",
       "      <td>JUCUTUQUARA</td>\n",
       "      <td>0</td>\n",
       "      <td>0</td>\n",
       "      <td>0</td>\n",
       "      <td>0</td>\n",
       "      <td>2</td>\n",
       "      <td>...</td>\n",
       "      <td>No</td>\n",
       "      <td>2016</td>\n",
       "      <td>6</td>\n",
       "      <td>3</td>\n",
       "      <td>4</td>\n",
       "      <td>2016</td>\n",
       "      <td>6</td>\n",
       "      <td>7</td>\n",
       "      <td>Friday</td>\n",
       "      <td>0</td>\n",
       "    </tr>\n",
       "    <tr>\n",
       "      <th>109975</th>\n",
       "      <td>M</td>\n",
       "      <td>2016-06-02 16:07:36</td>\n",
       "      <td>2016-06-06</td>\n",
       "      <td>39</td>\n",
       "      <td>PRAIA DO SUÁ</td>\n",
       "      <td>1</td>\n",
       "      <td>0</td>\n",
       "      <td>0</td>\n",
       "      <td>0</td>\n",
       "      <td>2</td>\n",
       "      <td>...</td>\n",
       "      <td>No</td>\n",
       "      <td>2016</td>\n",
       "      <td>6</td>\n",
       "      <td>2</td>\n",
       "      <td>3</td>\n",
       "      <td>2016</td>\n",
       "      <td>6</td>\n",
       "      <td>6</td>\n",
       "      <td>Thursday</td>\n",
       "      <td>0</td>\n",
       "    </tr>\n",
       "    <tr>\n",
       "      <th>110107</th>\n",
       "      <td>F</td>\n",
       "      <td>2016-06-02 06:44:00</td>\n",
       "      <td>2016-06-06</td>\n",
       "      <td>44</td>\n",
       "      <td>RESISTÊNCIA</td>\n",
       "      <td>0</td>\n",
       "      <td>0</td>\n",
       "      <td>0</td>\n",
       "      <td>0</td>\n",
       "      <td>2</td>\n",
       "      <td>...</td>\n",
       "      <td>No</td>\n",
       "      <td>2016</td>\n",
       "      <td>6</td>\n",
       "      <td>2</td>\n",
       "      <td>3</td>\n",
       "      <td>2016</td>\n",
       "      <td>6</td>\n",
       "      <td>6</td>\n",
       "      <td>Thursday</td>\n",
       "      <td>0</td>\n",
       "    </tr>\n",
       "  </tbody>\n",
       "</table>\n",
       "<p>199 rows × 21 columns</p>\n",
       "</div>"
      ],
      "text/plain": [
       "       Gender        ScheduledDay AppointmentDay  Age     Neighbourhood  \\\n",
       "946         M 2016-04-14 09:26:08     2016-04-29   94        BELA VISTA   \n",
       "1665        M 2016-03-30 09:16:41     2016-04-29   64      SANTA MARTHA   \n",
       "1666        M 2016-03-30 09:16:41     2016-04-29   64      SANTA MARTHA   \n",
       "2071        M 2016-04-29 10:08:48     2016-04-29   64      SANTA MARTHA   \n",
       "2091        F 2016-04-29 08:13:59     2016-04-29   11        ANDORINHAS   \n",
       "2213        F 2016-04-29 11:22:50     2016-04-29   29        VILA RUBIM   \n",
       "2214        M 2016-04-29 11:22:20     2016-04-29   55         DO QUADRO   \n",
       "2673        M 2016-04-15 13:06:05     2016-04-29   17      SANTA TEREZA   \n",
       "5424        M 2016-05-02 13:24:36     2016-05-04   65       SANTO ANDRÉ   \n",
       "5467        F 2016-05-12 09:10:28     2016-05-16   10    BENTO FERREIRA   \n",
       "5475        F 2016-05-12 09:10:50     2016-05-16   34       JUCUTUQUARA   \n",
       "5485        F 2016-05-05 10:23:26     2016-05-09   16      SANTA TEREZA   \n",
       "5510        F 2016-05-04 11:06:48     2016-05-05   42         SÃO PEDRO   \n",
       "6067        F 2016-05-17 07:41:55     2016-05-19   10       RESISTÊNCIA   \n",
       "6156        F 2016-05-13 07:39:38     2016-05-17   29     SANTO ANTÔNIO   \n",
       "6401        F 2016-05-11 07:32:16     2016-05-13   19        VILA RUBIM   \n",
       "11227       M 2016-04-15 08:49:43     2016-05-19   18       RESISTÊNCIA   \n",
       "11230       M 2016-03-18 15:02:00     2016-05-19   18       RESISTÊNCIA   \n",
       "14847       M 2016-04-05 09:04:49     2016-05-05   17      SANTA TEREZA   \n",
       "15839       F 2016-05-02 09:46:27     2016-05-12   52        DE LOURDES   \n",
       "15845       F 2016-05-02 09:46:40     2016-05-12   52        DE LOURDES   \n",
       "16632       F 2016-05-02 08:04:06     2016-05-09   32      SANTA MARTHA   \n",
       "16634       F 2016-04-27 12:03:16     2016-05-02   32      SANTA MARTHA   \n",
       "16635       F 2016-05-02 08:04:06     2016-05-09   32      SANTA MARTHA   \n",
       "16636       F 2016-04-27 12:01:01     2016-05-02   32      SANTA MARTHA   \n",
       "17862       F 2016-05-06 07:59:24     2016-05-06   37       SANTO ANDRÉ   \n",
       "18241       M 2016-04-28 11:58:14     2016-05-04    4      PRAIA DO SUÁ   \n",
       "19264       F 2016-04-26 09:39:37     2016-05-10   89  ILHA DO PRÍNCIPE   \n",
       "19915       M 2016-04-27 08:25:25     2016-05-11   16        BELA VISTA   \n",
       "19981       M 2016-05-09 15:27:02     2016-05-12   89        BELA VISTA   \n",
       "...       ...                 ...            ...  ...               ...   \n",
       "96173       M 2016-05-10 10:57:48     2016-06-07   82     MATA DA PRAIA   \n",
       "96457       M 2016-06-06 15:02:34     2016-06-07   29   JARDIM DA PENHA   \n",
       "96831       F 2016-05-19 14:08:28     2016-06-02   97           MARUÍPE   \n",
       "97998       F 2016-06-02 09:21:08     2016-06-02    8        TABUAZEIRO   \n",
       "98045       F 2016-06-07 14:56:08     2016-06-07   52        DE LOURDES   \n",
       "98538       M 2016-06-01 15:11:25     2016-06-03   19         SÃO PEDRO   \n",
       "99455       F 2016-06-02 11:06:13     2016-06-02   40         DO QUADRO   \n",
       "100538      M 2016-06-07 09:27:29     2016-06-07   11        GOIABEIRAS   \n",
       "101074      F 2016-05-09 09:00:57     2016-06-07   33      SANTA MARTHA   \n",
       "101911      M 2016-06-07 11:10:08     2016-06-07   84       RESISTÊNCIA   \n",
       "101912      M 2016-06-07 11:09:45     2016-06-07   84       RESISTÊNCIA   \n",
       "101913      M 2016-06-07 11:10:22     2016-06-07   84       RESISTÊNCIA   \n",
       "101949      M 2016-06-06 15:14:05     2016-06-08   12        ESTRELINHA   \n",
       "102276      M 2016-06-06 14:02:28     2016-06-06   89        BELA VISTA   \n",
       "102360      F 2016-06-01 09:00:14     2016-06-01   44             ROMÃO   \n",
       "102955      F 2016-06-06 10:45:58     2016-06-06   15       JOANA D´ARC   \n",
       "104268      F 2016-05-13 15:01:17     2016-06-02    9           ITARARÉ   \n",
       "104927      M 2016-05-24 16:35:44     2016-06-01   70        ANDORINHAS   \n",
       "104931      M 2016-05-24 16:35:44     2016-06-01   70        ANDORINHAS   \n",
       "104932      M 2016-05-24 16:35:44     2016-06-01   70        ANDORINHAS   \n",
       "105008      F 2016-06-07 09:03:12     2016-06-07   37       SANTO ANDRÉ   \n",
       "105073      F 2016-05-16 07:20:46     2016-06-01   35        BELA VISTA   \n",
       "105322      M 2016-06-01 07:23:50     2016-06-01    6       SANTA CLARA   \n",
       "105753      M 2016-05-31 14:41:50     2016-06-02   32          REDENÇÃO   \n",
       "108335      M 2016-06-03 09:11:46     2016-06-08   45             ROMÃO   \n",
       "108376      F 2016-06-01 08:48:28     2016-06-07   44             ROMÃO   \n",
       "109484      M 2016-05-31 11:45:57     2016-06-02   64          DA PENHA   \n",
       "109733      F 2016-06-03 16:11:00     2016-06-07   34       JUCUTUQUARA   \n",
       "109975      M 2016-06-02 16:07:36     2016-06-06   39      PRAIA DO SUÁ   \n",
       "110107      F 2016-06-02 06:44:00     2016-06-06   44       RESISTÊNCIA   \n",
       "\n",
       "        Scholarship  Hipertension  Diabetes  Alcoholism  Handcap    ...     \\\n",
       "946               0             1         1           0        2    ...      \n",
       "1665              0             1         0           1        2    ...      \n",
       "1666              0             1         0           1        2    ...      \n",
       "2071              0             1         0           1        2    ...      \n",
       "2091              0             0         0           0        2    ...      \n",
       "2213              0             0         0           0        2    ...      \n",
       "2214              0             0         0           0        3    ...      \n",
       "2673              0             0         0           0        2    ...      \n",
       "5424              0             1         1           1        2    ...      \n",
       "5467              0             0         0           0        2    ...      \n",
       "5475              0             0         0           0        2    ...      \n",
       "5485              0             0         0           0        2    ...      \n",
       "5510              0             1         0           0        2    ...      \n",
       "6067              0             0         0           0        2    ...      \n",
       "6156              0             0         0           0        2    ...      \n",
       "6401              0             0         0           0        2    ...      \n",
       "11227             0             0         0           0        2    ...      \n",
       "11230             0             0         0           0        2    ...      \n",
       "14847             0             0         0           0        2    ...      \n",
       "15839             0             1         0           0        2    ...      \n",
       "15845             0             1         0           0        2    ...      \n",
       "16632             0             0         0           0        2    ...      \n",
       "16634             0             0         0           0        2    ...      \n",
       "16635             0             0         0           0        2    ...      \n",
       "16636             0             0         0           0        2    ...      \n",
       "17862             0             0         0           0        2    ...      \n",
       "18241             0             0         0           0        2    ...      \n",
       "19264             0             1         0           0        2    ...      \n",
       "19915             0             0         0           0        2    ...      \n",
       "19981             0             1         1           0        2    ...      \n",
       "...             ...           ...       ...         ...      ...    ...      \n",
       "96173             0             1         0           0        2    ...      \n",
       "96457             0             0         0           0        2    ...      \n",
       "96831             0             1         0           0        2    ...      \n",
       "97998             0             0         0           0        2    ...      \n",
       "98045             0             1         0           0        2    ...      \n",
       "98538             0             0         0           0        4    ...      \n",
       "99455             0             0         0           0        2    ...      \n",
       "100538            1             0         0           0        2    ...      \n",
       "101074            0             0         0           0        2    ...      \n",
       "101911            0             1         0           0        2    ...      \n",
       "101912            0             1         0           0        2    ...      \n",
       "101913            0             1         0           0        2    ...      \n",
       "101949            0             0         0           0        2    ...      \n",
       "102276            0             1         1           0        2    ...      \n",
       "102360            0             1         1           0        2    ...      \n",
       "102955            1             0         0           0        2    ...      \n",
       "104268            0             0         0           0        4    ...      \n",
       "104927            0             0         0           1        3    ...      \n",
       "104931            0             0         0           1        3    ...      \n",
       "104932            0             0         0           1        3    ...      \n",
       "105008            0             0         0           0        2    ...      \n",
       "105073            1             0         1           0        2    ...      \n",
       "105322            0             0         0           0        2    ...      \n",
       "105753            0             0         0           0        2    ...      \n",
       "108335            0             0         0           0        2    ...      \n",
       "108376            0             1         1           0        2    ...      \n",
       "109484            0             1         1           0        2    ...      \n",
       "109733            0             0         0           0        2    ...      \n",
       "109975            1             0         0           0        2    ...      \n",
       "110107            0             0         0           0        2    ...      \n",
       "\n",
       "        No-show SchedYear  SchedMonth  SchedDay  SchedWeekday  AppYear  \\\n",
       "946          No      2016           4        14             3     2016   \n",
       "1665         No      2016           3        30             2     2016   \n",
       "1666         No      2016           3        30             2     2016   \n",
       "2071         No      2016           4        29             4     2016   \n",
       "2091         No      2016           4        29             4     2016   \n",
       "2213         No      2016           4        29             4     2016   \n",
       "2214         No      2016           4        29             4     2016   \n",
       "2673         No      2016           4        15             4     2016   \n",
       "5424        Yes      2016           5         2             0     2016   \n",
       "5467         No      2016           5        12             3     2016   \n",
       "5475        Yes      2016           5        12             3     2016   \n",
       "5485         No      2016           5         5             3     2016   \n",
       "5510         No      2016           5         4             2     2016   \n",
       "6067        Yes      2016           5        17             1     2016   \n",
       "6156         No      2016           5        13             4     2016   \n",
       "6401         No      2016           5        11             2     2016   \n",
       "11227        No      2016           4        15             4     2016   \n",
       "11230        No      2016           3        18             4     2016   \n",
       "14847        No      2016           4         5             1     2016   \n",
       "15839        No      2016           5         2             0     2016   \n",
       "15845        No      2016           5         2             0     2016   \n",
       "16632        No      2016           5         2             0     2016   \n",
       "16634       Yes      2016           4        27             2     2016   \n",
       "16635        No      2016           5         2             0     2016   \n",
       "16636       Yes      2016           4        27             2     2016   \n",
       "17862        No      2016           5         6             4     2016   \n",
       "18241        No      2016           4        28             3     2016   \n",
       "19264       Yes      2016           4        26             1     2016   \n",
       "19915        No      2016           4        27             2     2016   \n",
       "19981        No      2016           5         9             0     2016   \n",
       "...         ...       ...         ...       ...           ...      ...   \n",
       "96173        No      2016           5        10             1     2016   \n",
       "96457        No      2016           6         6             0     2016   \n",
       "96831        No      2016           5        19             3     2016   \n",
       "97998        No      2016           6         2             3     2016   \n",
       "98045        No      2016           6         7             1     2016   \n",
       "98538        No      2016           6         1             2     2016   \n",
       "99455        No      2016           6         2             3     2016   \n",
       "100538       No      2016           6         7             1     2016   \n",
       "101074       No      2016           5         9             0     2016   \n",
       "101911      Yes      2016           6         7             1     2016   \n",
       "101912       No      2016           6         7             1     2016   \n",
       "101913      Yes      2016           6         7             1     2016   \n",
       "101949      Yes      2016           6         6             0     2016   \n",
       "102276       No      2016           6         6             0     2016   \n",
       "102360       No      2016           6         1             2     2016   \n",
       "102955       No      2016           6         6             0     2016   \n",
       "104268      Yes      2016           5        13             4     2016   \n",
       "104927       No      2016           5        24             1     2016   \n",
       "104931       No      2016           5        24             1     2016   \n",
       "104932       No      2016           5        24             1     2016   \n",
       "105008       No      2016           6         7             1     2016   \n",
       "105073       No      2016           5        16             0     2016   \n",
       "105322       No      2016           6         1             2     2016   \n",
       "105753       No      2016           5        31             1     2016   \n",
       "108335       No      2016           6         3             4     2016   \n",
       "108376       No      2016           6         1             2     2016   \n",
       "109484       No      2016           5        31             1     2016   \n",
       "109733       No      2016           6         3             4     2016   \n",
       "109975       No      2016           6         2             3     2016   \n",
       "110107       No      2016           6         2             3     2016   \n",
       "\n",
       "        AppMonth  AppDay  SchedWeekDay NoShowInt  \n",
       "946            4      29      Thursday         0  \n",
       "1665           4      29     Wednesday         0  \n",
       "1666           4      29     Wednesday         0  \n",
       "2071           4      29        Friday         0  \n",
       "2091           4      29        Friday         0  \n",
       "2213           4      29        Friday         0  \n",
       "2214           4      29        Friday         0  \n",
       "2673           4      29        Friday         0  \n",
       "5424           5       4        Monday         1  \n",
       "5467           5      16      Thursday         0  \n",
       "5475           5      16      Thursday         1  \n",
       "5485           5       9      Thursday         0  \n",
       "5510           5       5     Wednesday         0  \n",
       "6067           5      19       Tuesday         1  \n",
       "6156           5      17        Friday         0  \n",
       "6401           5      13     Wednesday         0  \n",
       "11227          5      19        Friday         0  \n",
       "11230          5      19        Friday         0  \n",
       "14847          5       5       Tuesday         0  \n",
       "15839          5      12        Monday         0  \n",
       "15845          5      12        Monday         0  \n",
       "16632          5       9        Monday         0  \n",
       "16634          5       2     Wednesday         1  \n",
       "16635          5       9        Monday         0  \n",
       "16636          5       2     Wednesday         1  \n",
       "17862          5       6        Friday         0  \n",
       "18241          5       4      Thursday         0  \n",
       "19264          5      10       Tuesday         1  \n",
       "19915          5      11     Wednesday         0  \n",
       "19981          5      12        Monday         0  \n",
       "...          ...     ...           ...       ...  \n",
       "96173          6       7       Tuesday         0  \n",
       "96457          6       7        Monday         0  \n",
       "96831          6       2      Thursday         0  \n",
       "97998          6       2      Thursday         0  \n",
       "98045          6       7       Tuesday         0  \n",
       "98538          6       3     Wednesday         0  \n",
       "99455          6       2      Thursday         0  \n",
       "100538         6       7       Tuesday         0  \n",
       "101074         6       7        Monday         0  \n",
       "101911         6       7       Tuesday         1  \n",
       "101912         6       7       Tuesday         0  \n",
       "101913         6       7       Tuesday         1  \n",
       "101949         6       8        Monday         1  \n",
       "102276         6       6        Monday         0  \n",
       "102360         6       1     Wednesday         0  \n",
       "102955         6       6        Monday         0  \n",
       "104268         6       2        Friday         1  \n",
       "104927         6       1       Tuesday         0  \n",
       "104931         6       1       Tuesday         0  \n",
       "104932         6       1       Tuesday         0  \n",
       "105008         6       7       Tuesday         0  \n",
       "105073         6       1        Monday         0  \n",
       "105322         6       1     Wednesday         0  \n",
       "105753         6       2       Tuesday         0  \n",
       "108335         6       8        Friday         0  \n",
       "108376         6       7     Wednesday         0  \n",
       "109484         6       2       Tuesday         0  \n",
       "109733         6       7        Friday         0  \n",
       "109975         6       6      Thursday         0  \n",
       "110107         6       6      Thursday         0  \n",
       "\n",
       "[199 rows x 21 columns]"
      ]
     },
     "execution_count": 77,
     "metadata": {},
     "output_type": "execute_result"
    }
   ],
   "source": [
    "# check all rows with Handcap value greater than 1\n",
    "\n",
    "wrongHandcap = df.query('Handcap > 1')\n",
    "wrongHandcap"
   ]
  },
  {
   "cell_type": "markdown",
   "metadata": {},
   "source": [
    "Need to make conditional drop of rows with wrong values:\n",
    "\n",
    "`1` with wrong `Age` \n",
    "\n",
    "`199` with wrong `Handcap`\n",
    "\n",
    "We can drop them as the total number of wrong rows `200` is insignificant comparing to the total number of rows : ` 111 527` "
   ]
  },
  {
   "cell_type": "code",
   "execution_count": 78,
   "metadata": {},
   "outputs": [],
   "source": [
    "# to drop row with wron Age\n",
    "df.drop(df[df.Age < 0].index, inplace=True)"
   ]
  },
  {
   "cell_type": "code",
   "execution_count": 79,
   "metadata": {},
   "outputs": [],
   "source": [
    "# to drop row with wron Handcap\n",
    "df.drop(df[df.Handcap > 1].index, inplace=True)"
   ]
  },
  {
   "cell_type": "code",
   "execution_count": 80,
   "metadata": {},
   "outputs": [
    {
     "data": {
      "text/html": [
       "<div>\n",
       "<style>\n",
       "    .dataframe thead tr:only-child th {\n",
       "        text-align: right;\n",
       "    }\n",
       "\n",
       "    .dataframe thead th {\n",
       "        text-align: left;\n",
       "    }\n",
       "\n",
       "    .dataframe tbody tr th {\n",
       "        vertical-align: top;\n",
       "    }\n",
       "</style>\n",
       "<table border=\"1\" class=\"dataframe\">\n",
       "  <thead>\n",
       "    <tr style=\"text-align: right;\">\n",
       "      <th></th>\n",
       "      <th>Age</th>\n",
       "      <th>Scholarship</th>\n",
       "      <th>Hipertension</th>\n",
       "      <th>Diabetes</th>\n",
       "      <th>Alcoholism</th>\n",
       "      <th>Handcap</th>\n",
       "      <th>SMS_received</th>\n",
       "      <th>SchedYear</th>\n",
       "      <th>SchedMonth</th>\n",
       "      <th>SchedDay</th>\n",
       "      <th>SchedWeekday</th>\n",
       "      <th>AppYear</th>\n",
       "      <th>AppMonth</th>\n",
       "      <th>AppDay</th>\n",
       "      <th>NoShowInt</th>\n",
       "    </tr>\n",
       "  </thead>\n",
       "  <tbody>\n",
       "    <tr>\n",
       "      <th>count</th>\n",
       "      <td>110327.000000</td>\n",
       "      <td>110327.000000</td>\n",
       "      <td>110327.000000</td>\n",
       "      <td>110327.000000</td>\n",
       "      <td>110327.000000</td>\n",
       "      <td>110327.000000</td>\n",
       "      <td>110327.000000</td>\n",
       "      <td>110327.000000</td>\n",
       "      <td>110327.000000</td>\n",
       "      <td>110327.000000</td>\n",
       "      <td>110327.000000</td>\n",
       "      <td>110327.0</td>\n",
       "      <td>110327.000000</td>\n",
       "      <td>110327.000000</td>\n",
       "      <td>110327.000000</td>\n",
       "    </tr>\n",
       "    <tr>\n",
       "      <th>mean</th>\n",
       "      <td>37.070753</td>\n",
       "      <td>0.098281</td>\n",
       "      <td>0.196833</td>\n",
       "      <td>0.071605</td>\n",
       "      <td>0.030382</td>\n",
       "      <td>0.018509</td>\n",
       "      <td>0.321182</td>\n",
       "      <td>2015.999438</td>\n",
       "      <td>4.823806</td>\n",
       "      <td>14.252667</td>\n",
       "      <td>1.852067</td>\n",
       "      <td>2016.0</td>\n",
       "      <td>5.210094</td>\n",
       "      <td>12.499361</td>\n",
       "      <td>0.201927</td>\n",
       "    </tr>\n",
       "    <tr>\n",
       "      <th>std</th>\n",
       "      <td>23.098052</td>\n",
       "      <td>0.297695</td>\n",
       "      <td>0.397607</td>\n",
       "      <td>0.257834</td>\n",
       "      <td>0.171638</td>\n",
       "      <td>0.134782</td>\n",
       "      <td>0.466932</td>\n",
       "      <td>0.023699</td>\n",
       "      <td>0.715840</td>\n",
       "      <td>9.345836</td>\n",
       "      <td>1.378527</td>\n",
       "      <td>0.0</td>\n",
       "      <td>0.473767</td>\n",
       "      <td>9.056694</td>\n",
       "      <td>0.401440</td>\n",
       "    </tr>\n",
       "    <tr>\n",
       "      <th>min</th>\n",
       "      <td>0.000000</td>\n",
       "      <td>0.000000</td>\n",
       "      <td>0.000000</td>\n",
       "      <td>0.000000</td>\n",
       "      <td>0.000000</td>\n",
       "      <td>0.000000</td>\n",
       "      <td>0.000000</td>\n",
       "      <td>2015.000000</td>\n",
       "      <td>1.000000</td>\n",
       "      <td>1.000000</td>\n",
       "      <td>0.000000</td>\n",
       "      <td>2016.0</td>\n",
       "      <td>4.000000</td>\n",
       "      <td>1.000000</td>\n",
       "      <td>0.000000</td>\n",
       "    </tr>\n",
       "    <tr>\n",
       "      <th>25%</th>\n",
       "      <td>18.000000</td>\n",
       "      <td>0.000000</td>\n",
       "      <td>0.000000</td>\n",
       "      <td>0.000000</td>\n",
       "      <td>0.000000</td>\n",
       "      <td>0.000000</td>\n",
       "      <td>0.000000</td>\n",
       "      <td>2016.000000</td>\n",
       "      <td>4.000000</td>\n",
       "      <td>6.000000</td>\n",
       "      <td>1.000000</td>\n",
       "      <td>2016.0</td>\n",
       "      <td>5.000000</td>\n",
       "      <td>5.000000</td>\n",
       "      <td>0.000000</td>\n",
       "    </tr>\n",
       "    <tr>\n",
       "      <th>50%</th>\n",
       "      <td>37.000000</td>\n",
       "      <td>0.000000</td>\n",
       "      <td>0.000000</td>\n",
       "      <td>0.000000</td>\n",
       "      <td>0.000000</td>\n",
       "      <td>0.000000</td>\n",
       "      <td>0.000000</td>\n",
       "      <td>2016.000000</td>\n",
       "      <td>5.000000</td>\n",
       "      <td>13.000000</td>\n",
       "      <td>2.000000</td>\n",
       "      <td>2016.0</td>\n",
       "      <td>5.000000</td>\n",
       "      <td>10.000000</td>\n",
       "      <td>0.000000</td>\n",
       "    </tr>\n",
       "    <tr>\n",
       "      <th>75%</th>\n",
       "      <td>55.000000</td>\n",
       "      <td>0.000000</td>\n",
       "      <td>0.000000</td>\n",
       "      <td>0.000000</td>\n",
       "      <td>0.000000</td>\n",
       "      <td>0.000000</td>\n",
       "      <td>1.000000</td>\n",
       "      <td>2016.000000</td>\n",
       "      <td>5.000000</td>\n",
       "      <td>22.000000</td>\n",
       "      <td>3.000000</td>\n",
       "      <td>2016.0</td>\n",
       "      <td>5.000000</td>\n",
       "      <td>19.000000</td>\n",
       "      <td>0.000000</td>\n",
       "    </tr>\n",
       "    <tr>\n",
       "      <th>max</th>\n",
       "      <td>115.000000</td>\n",
       "      <td>1.000000</td>\n",
       "      <td>1.000000</td>\n",
       "      <td>1.000000</td>\n",
       "      <td>1.000000</td>\n",
       "      <td>1.000000</td>\n",
       "      <td>1.000000</td>\n",
       "      <td>2016.000000</td>\n",
       "      <td>12.000000</td>\n",
       "      <td>31.000000</td>\n",
       "      <td>5.000000</td>\n",
       "      <td>2016.0</td>\n",
       "      <td>6.000000</td>\n",
       "      <td>31.000000</td>\n",
       "      <td>1.000000</td>\n",
       "    </tr>\n",
       "  </tbody>\n",
       "</table>\n",
       "</div>"
      ],
      "text/plain": [
       "                 Age    Scholarship   Hipertension       Diabetes  \\\n",
       "count  110327.000000  110327.000000  110327.000000  110327.000000   \n",
       "mean       37.070753       0.098281       0.196833       0.071605   \n",
       "std        23.098052       0.297695       0.397607       0.257834   \n",
       "min         0.000000       0.000000       0.000000       0.000000   \n",
       "25%        18.000000       0.000000       0.000000       0.000000   \n",
       "50%        37.000000       0.000000       0.000000       0.000000   \n",
       "75%        55.000000       0.000000       0.000000       0.000000   \n",
       "max       115.000000       1.000000       1.000000       1.000000   \n",
       "\n",
       "          Alcoholism        Handcap   SMS_received      SchedYear  \\\n",
       "count  110327.000000  110327.000000  110327.000000  110327.000000   \n",
       "mean        0.030382       0.018509       0.321182    2015.999438   \n",
       "std         0.171638       0.134782       0.466932       0.023699   \n",
       "min         0.000000       0.000000       0.000000    2015.000000   \n",
       "25%         0.000000       0.000000       0.000000    2016.000000   \n",
       "50%         0.000000       0.000000       0.000000    2016.000000   \n",
       "75%         0.000000       0.000000       1.000000    2016.000000   \n",
       "max         1.000000       1.000000       1.000000    2016.000000   \n",
       "\n",
       "          SchedMonth       SchedDay   SchedWeekday   AppYear       AppMonth  \\\n",
       "count  110327.000000  110327.000000  110327.000000  110327.0  110327.000000   \n",
       "mean        4.823806      14.252667       1.852067    2016.0       5.210094   \n",
       "std         0.715840       9.345836       1.378527       0.0       0.473767   \n",
       "min         1.000000       1.000000       0.000000    2016.0       4.000000   \n",
       "25%         4.000000       6.000000       1.000000    2016.0       5.000000   \n",
       "50%         5.000000      13.000000       2.000000    2016.0       5.000000   \n",
       "75%         5.000000      22.000000       3.000000    2016.0       5.000000   \n",
       "max        12.000000      31.000000       5.000000    2016.0       6.000000   \n",
       "\n",
       "              AppDay      NoShowInt  \n",
       "count  110327.000000  110327.000000  \n",
       "mean       12.499361       0.201927  \n",
       "std         9.056694       0.401440  \n",
       "min         1.000000       0.000000  \n",
       "25%         5.000000       0.000000  \n",
       "50%        10.000000       0.000000  \n",
       "75%        19.000000       0.000000  \n",
       "max        31.000000       1.000000  "
      ]
     },
     "execution_count": 80,
     "metadata": {},
     "output_type": "execute_result"
    }
   ],
   "source": [
    "# to check if we have all correct values or looking correct\n",
    "df.describe()"
   ]
  },
  {
   "cell_type": "code",
   "execution_count": 81,
   "metadata": {},
   "outputs": [
    {
     "data": {
      "text/plain": [
       "(110327, 21)"
      ]
     },
     "execution_count": 81,
     "metadata": {},
     "output_type": "execute_result"
    }
   ],
   "source": [
    "# to check if number of rows reduced\n",
    "\n",
    "df.shape"
   ]
  },
  {
   "cell_type": "markdown",
   "metadata": {},
   "source": [
    "Everything is correct:\n",
    "\n",
    "min `Age` is `0`\n",
    "\n",
    "max `Handcap` is `1`\n",
    "\n",
    "number of rows decreased by `200` and now is `110 327` instead of `110 527`"
   ]
  },
  {
   "cell_type": "code",
   "execution_count": 82,
   "metadata": {},
   "outputs": [
    {
     "data": {
      "text/plain": [
       "110327"
      ]
     },
     "execution_count": 82,
     "metadata": {},
     "output_type": "execute_result"
    }
   ],
   "source": [
    "# to check total number of rows\n",
    "\n",
    "df.Scholarship.count()"
   ]
  },
  {
   "cell_type": "code",
   "execution_count": 83,
   "metadata": {},
   "outputs": [
    {
     "data": {
      "text/plain": [
       "110327"
      ]
     },
     "execution_count": 83,
     "metadata": {},
     "output_type": "execute_result"
    }
   ],
   "source": [
    "# to create Gender subsets for male and female\n",
    "\n",
    "total_gender = df['Gender'].value_counts()\n",
    "male = df.query('Gender == \"M\"')\n",
    "female = df.query('Gender == \"F\"')\n",
    "total_gender\n",
    "total_gender.sum()\n",
    "# male.count().max()\n",
    "# female.count().max()"
   ]
  },
  {
   "cell_type": "code",
   "execution_count": 84,
   "metadata": {},
   "outputs": [
    {
     "data": {
      "text/plain": [
       "('male', '0.35', 'female', '0.65')"
      ]
     },
     "execution_count": 84,
     "metadata": {},
     "output_type": "execute_result"
    }
   ],
   "source": [
    "# to calculate the proportion of men and women in total\n",
    "proportion_male = male.count().max()/total_gender.sum()\n",
    "proportion_female = female.count().max()/total_gender.sum()\n",
    "'male', \"{0:.2f}\".format(proportion_male), 'female', \"{0:.2f}\".format(proportion_female)"
   ]
  },
  {
   "cell_type": "markdown",
   "metadata": {},
   "source": [
    "<a id=\"gen\"></a>\n",
    "    \n",
    "### Research Question 1 (Gender infuence)"
   ]
  },
  {
   "cell_type": "markdown",
   "metadata": {},
   "source": [
    "As we see from queries men are 35% of patients and women are 65% of patients.\n",
    "\n",
    "Now let's check what is proportion of men and women have missed their appointments.\n",
    "\n",
    "At first we create two subsets: `shownUp` and `notShownUp` for people who came and who missed appointments respectively."
   ]
  },
  {
   "cell_type": "code",
   "execution_count": 85,
   "metadata": {},
   "outputs": [],
   "source": [
    "# to create condition for shown up patients and those who missed the appointments\n",
    "shownUp = df.NoShowInt == False\n",
    "notShownUp = df.NoShowInt == True"
   ]
  },
  {
   "cell_type": "code",
   "execution_count": 86,
   "metadata": {},
   "outputs": [
    {
     "data": {
      "text/plain": [
       "('proportion men no show', '0.20', 'proportion female no show', '0.20')"
      ]
     },
     "execution_count": 86,
     "metadata": {},
     "output_type": "execute_result"
    }
   ],
   "source": [
    "# to calculate the proportion of men and women who missed their appointments\n",
    "maleNoShow = male.NoShowInt.sum()\n",
    "femaleNoShow = female.NoShowInt.sum()\n",
    "propMnoShow = maleNoShow / male.Age.count()\n",
    "propFnoShow = femaleNoShow/female.Age.count()\n",
    "'proportion men no show', \"{0:.2f}\".format(propMnoShow), 'proportion female no show', \"{0:.2f}\".format(propFnoShow)"
   ]
  },
  {
   "cell_type": "markdown",
   "metadata": {},
   "source": [
    "As we see despite different numbers of appointments for men and women the same proportion of men and women have missed their appointment: 0.2 .\n",
    "So unlikely this variable affect missed appointments."
   ]
  },
  {
   "cell_type": "code",
   "execution_count": 87,
   "metadata": {},
   "outputs": [
    {
     "data": {
      "text/plain": [
       "('men no show and total',\n",
       " 7710,\n",
       " 38597,\n",
       " 'female no show and total',\n",
       " 14568,\n",
       " 71730)"
      ]
     },
     "execution_count": 87,
     "metadata": {},
     "output_type": "execute_result"
    }
   ],
   "source": [
    "#to check the total numbers of women and men who missed their appointments\n",
    "'men no show and total', maleNoShow, male.Age.count(), 'female no show and total', femaleNoShow, female.Age.count()"
   ]
  },
  {
   "cell_type": "markdown",
   "metadata": {},
   "source": [
    "Let's check absolute numbers. Everything is correct, even without calculation it's clear that about 1/5 of appointments were missed for both genders."
   ]
  },
  {
   "cell_type": "markdown",
   "metadata": {},
   "source": [
    "<a id=\"age\"></a>\n",
    "    \n",
    "### Research Question 2 (Age infuence)"
   ]
  },
  {
   "cell_type": "markdown",
   "metadata": {},
   "source": [
    "Now let's check the `Age` between men and women. \n",
    "At the histogram we see that men's histogram is positively skewed with mode age 0-10 years old, then almost evenly distributed between 10 and 60 years old and then significantly decreasing.\n",
    "We could guess that peak at the age 0-10 y is happened mostly because these patients were brought by parents and had to come for regular appointments (probably school age mandatory appointments too)."
   ]
  },
  {
   "cell_type": "code",
   "execution_count": 88,
   "metadata": {},
   "outputs": [
    {
     "data": {
      "text/plain": [
       "<matplotlib.legend.Legend at 0x7f0b313e6d68>"
      ]
     },
     "execution_count": 88,
     "metadata": {},
     "output_type": "execute_result"
    },
    {
     "data": {
      "image/png": "[encoded data removed]",
      "text/plain": [
       "<matplotlib.figure.Figure at 0x7f0b313e6cf8>"
      ]
     },
     "metadata": {
      "needs_background": "light"
     },
     "output_type": "display_data"
    }
   ],
   "source": [
    "# to visualize number of appintments for men and women by age\n",
    "\n",
    "male.Age.hist(alpha=0.5, color='blue', label='male')\n",
    "female.Age.hist(alpha=0.5, label='female')\n",
    "\n",
    "plt.ylabel('Number of Appointments')\n",
    "plt.xlabel('Age')\n",
    "plt.title(\"Men and Women Appointments by Age\")\n",
    "plt.legend()"
   ]
  },
  {
   "cell_type": "code",
   "execution_count": 89,
   "metadata": {},
   "outputs": [
    {
     "data": {
      "text/plain": [
       "<matplotlib.legend.Legend at 0x7f0b3132e3c8>"
      ]
     },
     "execution_count": 89,
     "metadata": {},
     "output_type": "execute_result"
    },
    {
     "data": {
      "image/png": "[encoded data removed]",
      "text/plain": [
       "<matplotlib.figure.Figure at 0x7f0b3135acc0>"
      ]
     },
     "metadata": {
      "needs_background": "light"
     },
     "output_type": "display_data"
    }
   ],
   "source": [
    "# to visualize number of missed appintments for men and women by age\n",
    "\n",
    "male.query('NoShowInt==1').Age.hist(alpha=0.5, color='blue', label='male')\n",
    "female.query('NoShowInt==1').Age.hist(alpha=0.5, label='female')\n",
    "plt.ylabel('Number of Appointments missed')\n",
    "plt.xlabel('Age')\n",
    "plt.title(\"Men and Women Missed appointments by Age\")\n",
    "plt.legend()"
   ]
  },
  {
   "cell_type": "code",
   "execution_count": 90,
   "metadata": {},
   "outputs": [
    {
     "data": {
      "text/plain": [
       "<matplotlib.legend.Legend at 0x7f0b312b9a20>"
      ]
     },
     "execution_count": 90,
     "metadata": {},
     "output_type": "execute_result"
    },
    {
     "data": {
      "image/png": "[encoded data removed]",
      "text/plain": [
       "<matplotlib.figure.Figure at 0x7f0b312c4160>"
      ]
     },
     "metadata": {
      "needs_background": "light"
     },
     "output_type": "display_data"
    }
   ],
   "source": [
    "# to compare missed and not missed appointments by Age\n",
    "df[notShownUp].Age.hist(alpha = 0.5, color='blue', label = 'not shown') # 1- did not show up\n",
    "df[shownUp].Age.hist(alpha = 0.5, label = 'shown')\n",
    "plt.ylabel('Number of Appointments missed')\n",
    "plt.xlabel('Age')\n",
    "plt.title(\"Missed and Not missed appointments by Age\")\n",
    "\n",
    "plt.legend()"
   ]
  },
  {
   "cell_type": "markdown",
   "metadata": {},
   "source": [
    "Women's `Age` is almost normally distrubuted with mode at 40 years old.\n",
    "At histogram with missed appoinments we see that both men and women histogram are keeping their shape with female distribution getting narrow.\n",
    "It could be related with child bearing before mode age and some sickness after - will check for `Diabetes` and `Hipertension` later."
   ]
  },
  {
   "cell_type": "markdown",
   "metadata": {},
   "source": [
    "<a id=\"sms\"></a>\n",
    "    \n",
    "### Research Question 3 (SMS received)"
   ]
  },
  {
   "cell_type": "markdown",
   "metadata": {},
   "source": [
    "Now we'll check how SMS received or not received affected missed appointments.\n"
   ]
  },
  {
   "cell_type": "code",
   "execution_count": 91,
   "metadata": {},
   "outputs": [],
   "source": [
    "# to make subsets of patients who received and not received SMS\n",
    "\n",
    "SMS = df.query('SMS_received == 1')\n",
    "noSMS = df.query('SMS_received == 0')\n",
    "# SMS.head(2)"
   ]
  },
  {
   "cell_type": "code",
   "execution_count": 92,
   "metadata": {},
   "outputs": [
    {
     "data": {
      "text/plain": [
       "<matplotlib.legend.Legend at 0x7f0b31269f60>"
      ]
     },
     "execution_count": 92,
     "metadata": {},
     "output_type": "execute_result"
    },
    {
     "data": {
      "image/png": "[encoded data removed]",
      "text/plain": [
       "<matplotlib.figure.Figure at 0x7f0b31274320>"
      ]
     },
     "metadata": {
      "needs_background": "light"
     },
     "output_type": "display_data"
    }
   ],
   "source": [
    "# to visualize missed appoinments with patients who received and not received  by day of the week\n",
    "\n",
    "SMS[SMS.NoShowInt==1].SchedWeekday.hist(alpha=0.5, color='blue',bins = 15, label='SMS')\n",
    "noSMS[noSMS.NoShowInt==1].SchedWeekday.hist(alpha=0.5, label='no SMS')\n",
    "plt.ylabel('Number of Appointments missed')\n",
    "plt.xlabel('Day of week')\n",
    "plt.title(\"Missed appointments by day of the week depending on received or not SMS\")\n",
    "\n",
    "plt.legend()"
   ]
  },
  {
   "cell_type": "code",
   "execution_count": 93,
   "metadata": {},
   "outputs": [
    {
     "data": {
      "text/plain": [
       "<matplotlib.legend.Legend at 0x7f0b3112e630>"
      ]
     },
     "execution_count": 93,
     "metadata": {},
     "output_type": "execute_result"
    },
    {
     "data": {
      "image/png": "[encoded data removed]",
      "text/plain": [
       "<matplotlib.figure.Figure at 0x7f0b3253ad30>"
      ]
     },
     "metadata": {
      "needs_background": "light"
     },
     "output_type": "display_data"
    }
   ],
   "source": [
    "# to visualize missed appoinments with patients who received and not received SMS by day of the week\n",
    "\n",
    "SMSnoShow = SMS.query('NoShowInt==1')\n",
    "noSMSnoShow = noSMS.query('NoShowInt==1')\n",
    "fig, ax = plt.subplots(figsize=(15,7))\n",
    "fig.suptitle('Number of appointments missed SMS received or not', fontsize=20)\n",
    "SMSnoShow.groupby(['SchedWeekday']).count()['Age'].plot(ax=ax, label = 'SMS')\n",
    "noSMSnoShow.groupby(['SchedWeekday']).count()['Age'].plot(ax=ax, label = 'no SMS')\n",
    "ax.set_xlabel('Days of the week')\n",
    "ax.set_ylabel('Number of appointments missed')\n",
    "plt.legend()"
   ]
  },
  {
   "cell_type": "code",
   "execution_count": 94,
   "metadata": {},
   "outputs": [
    {
     "data": {
      "text/plain": [
       "<matplotlib.legend.Legend at 0x7f0b310fb208>"
      ]
     },
     "execution_count": 94,
     "metadata": {},
     "output_type": "execute_result"
    },
    {
     "data": {
      "image/png": "[encoded data removed]",
      "text/plain": [
       "<matplotlib.figure.Figure at 0x7f0b31100f28>"
      ]
     },
     "metadata": {
      "needs_background": "light"
     },
     "output_type": "display_data"
    }
   ],
   "source": [
    "# to visualize missed appoinments with patients who received and not received SMS by Age\n",
    "\n",
    "SMS[SMS.NoShowInt==1].Age.hist(alpha=0.5, color='blue', label='SMS')\n",
    "noSMS[noSMS.NoShowInt==1].Age.hist(alpha=0.5, label='no SMS')\n",
    "\n",
    "plt.ylabel('Number of Appointments missed')\n",
    "plt.xlabel('Age')\n",
    "plt.title(\"Missed appointments by Age depending on received or not SMS\")\n",
    "\n",
    "plt.legend()"
   ]
  },
  {
   "cell_type": "markdown",
   "metadata": {},
   "source": [
    "We see that missed SMS mostly affected patients at the beginning of the week and before 60 yo.\n",
    "There is the chance that after 60 people mostly relay on written reminders.\n",
    "\n",
    "Let's check absolute numbers in SMS received and proportion of appointments missed with SMS received and without."
   ]
  },
  {
   "cell_type": "code",
   "execution_count": 95,
   "metadata": {},
   "outputs": [
    {
     "data": {
      "text/plain": [
       "35435"
      ]
     },
     "execution_count": 95,
     "metadata": {},
     "output_type": "execute_result"
    }
   ],
   "source": [
    "# check number of patients received SMS\n",
    "df['SMS_received'].sum()"
   ]
  },
  {
   "cell_type": "code",
   "execution_count": 97,
   "metadata": {},
   "outputs": [
    {
     "data": {
      "text/plain": [
       "('proportion SMS no show', '0.44', 'proportion no SMS no show', '0.56')"
      ]
     },
     "execution_count": 97,
     "metadata": {},
     "output_type": "execute_result"
    }
   ],
   "source": [
    "# calculate the proportion of missed appoinments with SMS and without\n",
    "\n",
    "'SMS no show', SMSnoShow['NoShowInt'].sum() , 'no SMS no show', noSMSnoShow['NoShowInt'].sum(), 'total no show', df['NoShowInt'].sum()\n",
    "'proportion SMS no show', \"{0:.2f}\".format(SMSnoShow['NoShowInt'].sum()/df['NoShowInt'].sum()), 'proportion no SMS no show', \"{0:.2f}\".format(noSMSnoShow['NoShowInt'].sum()/df['NoShowInt'].sum())"
   ]
  },
  {
   "cell_type": "markdown",
   "metadata": {},
   "source": [
    "Yes, variable `SMS` affects missed appointments:\n",
    "44% of patients received SMS have not shown up and\n",
    "56% of patients who didn't receieved SMS not shown up."
   ]
  },
  {
   "cell_type": "markdown",
   "metadata": {},
   "source": [
    "<a id=\"diab\"></a>\n",
    "    \n",
    "### Research Question 4 (Diabetes)"
   ]
  },
  {
   "cell_type": "markdown",
   "metadata": {},
   "source": [
    "Now let's check how `Diabetes` and `Scholarship` affect missed appointments."
   ]
  },
  {
   "cell_type": "code",
   "execution_count": 98,
   "metadata": {},
   "outputs": [
    {
     "data": {
      "text/plain": [
       "('female Diabetes', '0.08', 'male Diabetes', '0.06')"
      ]
     },
     "execution_count": 98,
     "metadata": {},
     "output_type": "execute_result"
    }
   ],
   "source": [
    "# to calculate Gender subsets with Diabetes and without\n",
    "\n",
    "femaleDiabetes = female.query('Diabetes == 1')\n",
    "femaleNoDiabetes = female.query('Diabetes == 0')\n",
    "maleDiabetes = male.query('Diabetes == 1')\n",
    "maleNoDiabetes = male.query('Diabetes == 0')\n",
    "\n",
    "femaleDiabetesNoShow = femaleDiabetes.query('NoShowInt==1')\n",
    "maleDiabetesNoShow = maleDiabetes.query('NoShowInt==1')\n",
    "\n",
    "\"female Diabetes\", \"{0:.2f}\".format(femaleDiabetes.Age.count()/female.Age.count()), \"male Diabetes\", \"{0:.2f}\".format(maleDiabetes.Age.count()/male.Age.count())"
   ]
  },
  {
   "cell_type": "code",
   "execution_count": 111,
   "metadata": {},
   "outputs": [
    {
     "data": {
      "text/plain": [
       "<matplotlib.legend.Legend at 0x7f0b30f066a0>"
      ]
     },
     "execution_count": 111,
     "metadata": {},
     "output_type": "execute_result"
    },
    {
     "data": {
      "image/png": "[encoded data removed]",
      "text/plain": [
       "<matplotlib.figure.Figure at 0x7f0b30f066d8>"
      ]
     },
     "metadata": {
      "needs_background": "light"
     },
     "output_type": "display_data"
    }
   ],
   "source": [
    "# histogram to visualize male and female patients with Diabetes by Age\n",
    "\n",
    "femaleDiabetes.Age.hist(alpha=0.5, label='female')\n",
    "maleDiabetes.Age.hist(alpha=0.5, label='male')\n",
    "\n",
    "plt.ylabel('Number of patients')\n",
    "plt.xlabel('Age')\n",
    "plt.title(\"Female and Male with Diabetes\")\n",
    "\n",
    "plt.legend()"
   ]
  },
  {
   "cell_type": "code",
   "execution_count": 100,
   "metadata": {},
   "outputs": [
    {
     "data": {
      "text/plain": [
       "('female Diabetes No Show', '0.18', 'male Diabetes No Show', '0.18')"
      ]
     },
     "execution_count": 100,
     "metadata": {},
     "output_type": "execute_result"
    }
   ],
   "source": [
    "# proportion of men and women with Diabetes who missed their Appoinments\n",
    "\"female Diabetes No Show\", \"{0:.2f}\".format(femaleDiabetesNoShow.Age.count()/femaleDiabetes.Age.count()), \"male Diabetes No Show\", \"{0:.2f}\".format(maleDiabetesNoShow.Age.count()/maleDiabetes.Age.count())"
   ]
  },
  {
   "cell_type": "markdown",
   "metadata": {},
   "source": [
    "Just as a reminder the proportion of missed appointments for men and women are:\n",
    "\n",
    "`'proportion men no show', '0.20', 'proportion female no show', '0.20'`\n",
    "\n",
    "As we see the proportion of male and female who had diabetes and missed their appointments (calculated for Diabetes patients) are less than total average for missed appointments (`0.18 vs 0.2`)"
   ]
  },
  {
   "cell_type": "markdown",
   "metadata": {},
   "source": [
    "<a id=\"schol\"></a>\n",
    "    \n",
    "### Research Question 5 (Scholarship)"
   ]
  },
  {
   "cell_type": "markdown",
   "metadata": {},
   "source": [
    "Let's check how Scholarship affected missed appointments."
   ]
  },
  {
   "cell_type": "code",
   "execution_count": 101,
   "metadata": {},
   "outputs": [],
   "source": [
    "#To calculate Gender subsets wiht Diabetes and Not With Scholarship and without\n",
    "\n",
    "femaleDiabetesScholarship = femaleDiabetes.query('Scholarship == 1')\n",
    "femaleDiabetesNoScholarship = femaleDiabetes.query('Scholarship == 0')\n",
    "femaleNoDiabetesScholarship = femaleNoDiabetes.query('Scholarship == 1')\n",
    "femaleNoDiabetesNoScholarship = femaleNoDiabetes.query('Scholarship == 0')\n",
    "maleDiabetesScholarship = maleDiabetes.query('Scholarship == 1')\n",
    "maleDiabetesNoScholarship = maleDiabetes.query('Scholarship == 0')\n",
    "maleNoDiabetesScholarship = maleNoDiabetes.query('Scholarship == 1')\n",
    "maleNoDiabetesNoScholarship = maleNoDiabetes.query('Scholarship == 0')"
   ]
  },
  {
   "cell_type": "code",
   "execution_count": 102,
   "metadata": {},
   "outputs": [],
   "source": [
    "# to create subsets from above who also missed their appointments \n",
    "femaleDSNoShow = femaleDiabetesScholarship.query('NoShowInt == 1')\n",
    "femaleDNSNoShow = femaleDiabetesNoScholarship.query('NoShowInt == 1')\n",
    "\n",
    "femaleDSShow = femaleDiabetesScholarship.query('NoShowInt == 0')\n",
    "femaleDNSShow = femaleDiabetesNoScholarship.query('NoShowInt == 0')\n",
    "\n",
    "maleDSNoShow = maleDiabetesScholarship.query('NoShowInt == 1')\n",
    "maleDNSNoShow = maleDiabetesNoScholarship.query('NoShowInt == 1')\n"
   ]
  },
  {
   "cell_type": "code",
   "execution_count": 104,
   "metadata": {},
   "outputs": [
    {
     "data": {
      "text/plain": [
       "('male Diabetes No Scholarship no Show',\n",
       " '0.17',\n",
       " 'female Diabetes No Scholarship no Show',\n",
       " '0.16')"
      ]
     },
     "execution_count": 104,
     "metadata": {},
     "output_type": "execute_result"
    }
   ],
   "source": [
    "# to calculate proportion of male and female patients with Diabetes without scholarship who missed their appointments\n",
    "\n",
    "\"male Diabetes No Scholarship no Show\", \"{0:.2f}\".format(maleDNSNoShow.Age.count()/maleDiabetes.Age.count()), \"female Diabetes No Scholarship no Show\", \"{0:.2f}\".format(femaleDNSNoShow.Age.count()/femaleDiabetes.Age.count())"
   ]
  },
  {
   "cell_type": "code",
   "execution_count": 105,
   "metadata": {},
   "outputs": [
    {
     "data": {
      "text/plain": [
       "('male Diabetes Scholarship no Show',\n",
       " '0.00',\n",
       " 'female Diabetes Scholarship no Show',\n",
       " '0.02')"
      ]
     },
     "execution_count": 105,
     "metadata": {},
     "output_type": "execute_result"
    }
   ],
   "source": [
    "# to calculate proportion of male and female patients with Diabetes wit scholarship who missed their appointments\n",
    "\n",
    "\"male Diabetes Scholarship no Show\", \"{0:.2f}\".format(maleDSNoShow.Age.count()/maleDiabetes.Age.count()), \"female Diabetes Scholarship no Show\", \"{0:.2f}\".format(femaleDSNoShow.Age.count()/femaleDiabetes.Age.count())"
   ]
  },
  {
   "cell_type": "code",
   "execution_count": 106,
   "metadata": {},
   "outputs": [
    {
     "data": {
      "text/plain": [
       "('male Scholarship no Show', '0.24', 'female Scholarship no Show', '0.24')"
      ]
     },
     "execution_count": 106,
     "metadata": {},
     "output_type": "execute_result"
    }
   ],
   "source": [
    "# to calculate proportion of male and female patients  with scholarship who missed their appointments\n",
    "\n",
    "maleSNoShow = male[male['Scholarship']==1].query('NoShowInt==1')\n",
    "femaleSNoShow = female[female['Scholarship']==1].query('NoShowInt==1')\n",
    "femaleSNoShow.head(5)\n",
    "maleSNoShow.Age.count()\n",
    "\"male Scholarship no Show\", \"{0:.2f}\".format(maleSNoShow.Age.count()/male[male['Scholarship']==1].Age.count()), \"female Scholarship no Show\", \"{0:.2f}\".format(femaleSNoShow.Age.count()/female[female['Scholarship']==1].Age.count())"
   ]
  },
  {
   "cell_type": "markdown",
   "metadata": {},
   "source": [
    "It's clear that Scholarship recipients with Diabetes almost never miss their appointments comparing to patients without Scholarship with Diabetes whose numbers are close to average missed appointments.\n",
    "In total Scholarship recepients tend to miss more appointments: `24%` of Scholarship recipients have missed their appointments."
   ]
  },
  {
   "cell_type": "markdown",
   "metadata": {},
   "source": [
    "<a id=\"alc\"></a>\n",
    "    \n",
    "### Research Question 6 (Alcoholism)"
   ]
  },
  {
   "cell_type": "markdown",
   "metadata": {},
   "source": [
    "We need to create subsets for different gender with `Alcoholism` and check the proportion for each gender."
   ]
  },
  {
   "cell_type": "code",
   "execution_count": 107,
   "metadata": {},
   "outputs": [
    {
     "data": {
      "text/plain": [
       "('female Alcoholism', '0.02', 'male Alcoholism', '0.06')"
      ]
     },
     "execution_count": 107,
     "metadata": {},
     "output_type": "execute_result"
    }
   ],
   "source": [
    "# to create gender subsets of patients with Alcoholism\n",
    "\n",
    "femaleAlc = female.query('Alcoholism == 1')\n",
    "femgr = femaleAlc.groupby('Age')\n",
    "maleAlc = male.query('Alcoholism == 1')\n",
    "\"female Alcoholism\", \"{0:.2f}\".format(femaleAlc.Age.count()/female.Age.count()), \"male Alcoholism\", \"{0:.2f}\".format(maleAlc.Age.count()/male.Age.count())"
   ]
  },
  {
   "cell_type": "code",
   "execution_count": 108,
   "metadata": {},
   "outputs": [
    {
     "data": {
      "text/plain": [
       "(45.310711365494683, 0    45\n",
       " dtype: int64)"
      ]
     },
     "execution_count": 108,
     "metadata": {},
     "output_type": "execute_result"
    }
   ],
   "source": [
    "# to check mean and mode Age for female patients with Alcoholism \n",
    "femaleAlc.Age.mean(), femaleAlc.Age.mode()"
   ]
  },
  {
   "cell_type": "code",
   "execution_count": 109,
   "metadata": {},
   "outputs": [
    {
     "data": {
      "text/plain": [
       "(51.995302959135742, 0    63\n",
       " dtype: int64)"
      ]
     },
     "execution_count": 109,
     "metadata": {},
     "output_type": "execute_result"
    }
   ],
   "source": [
    "# to check mean and mode Age for male patients with Alcoholism \n",
    "\n",
    "maleAlc.Age.mean(), maleAlc.Age.mode()"
   ]
  },
  {
   "cell_type": "markdown",
   "metadata": {},
   "source": [
    "There are three times more Male patients with Alcoholism in % comparing to Female.\n",
    "Female patients with Alcoholism are normally distributed with `mean 45.3 yo ` and mode `45yo`\n",
    "while Male patients with Alcoholism are close to normal distribution but slightly negatively skewed \n",
    "with `mean 52 yo` and `mode 63 yo`"
   ]
  },
  {
   "cell_type": "code",
   "execution_count": 117,
   "metadata": {},
   "outputs": [
    {
     "data": {
      "text/plain": [
       "<matplotlib.legend.Legend at 0x7f0b308a4278>"
      ]
     },
     "execution_count": 117,
     "metadata": {},
     "output_type": "execute_result"
    },
    {
     "data": {
      "image/png": "[encoded data removed]",
      "text/plain": [
       "<matplotlib.figure.Figure at 0x7f0b308a4eb8>"
      ]
     },
     "metadata": {
      "needs_background": "light"
     },
     "output_type": "display_data"
    }
   ],
   "source": [
    "# histogram of female and male patients with alcoholism by Age\n",
    "\n",
    "femaleAlc.Age.hist(alpha=0.5, label='female Alc')\n",
    "maleAlc.Age.hist(alpha=0.5, label='male Alc')\n",
    "\n",
    "plt.ylabel('Number of appointments')\n",
    "plt.xlabel('Age')\n",
    "plt.title(\"Male and female patients with Alcoholism\")\n",
    "\n",
    "plt.legend()"
   ]
  },
  {
   "cell_type": "code",
   "execution_count": 113,
   "metadata": {},
   "outputs": [
    {
     "data": {
      "text/plain": [
       "('female Alc no Show', '0.25', 'male Alc no Show', '0.17')"
      ]
     },
     "execution_count": 113,
     "metadata": {},
     "output_type": "execute_result"
    }
   ],
   "source": [
    "# to check proportion of Male and Female patients with Alcoholism who missed their appointments\n",
    "\n",
    "femaleAlcNoShow = femaleAlc.query('NoShowInt == 1')\n",
    "maleAlcNoShow = maleAlc.query('NoShowInt == 1')\n",
    "\"female Alc no Show\", \"{0:.2f}\".format(femaleAlcNoShow.Age.count()/femaleAlc.Age.count()), \"male Alc no Show\", \"{0:.2f}\".format(maleAlcNoShow.Age.count()/maleAlc.Age.count())"
   ]
  },
  {
   "cell_type": "markdown",
   "metadata": {},
   "source": [
    "Female with Alcoholism tend to miss more appointment then Male."
   ]
  },
  {
   "cell_type": "markdown",
   "metadata": {},
   "source": [
    "<a id=\"week\"></a>\n",
    "    \n",
    "### Research Question 7 (Day of the week)"
   ]
  },
  {
   "cell_type": "markdown",
   "metadata": {},
   "source": [
    "Let's check how day of the week affected missed appointments."
   ]
  },
  {
   "cell_type": "code",
   "execution_count": 114,
   "metadata": {},
   "outputs": [
    {
     "data": {
      "text/plain": [
       "SchedWeekDay\n",
       "Friday       3881\n",
       "Monday       4552\n",
       "Saturday        1\n",
       "Thursday     3696\n",
       "Tuesday      5277\n",
       "Wednesday    4871\n",
       "Name: NoShowInt, dtype: int64"
      ]
     },
     "execution_count": 114,
     "metadata": {},
     "output_type": "execute_result"
    }
   ],
   "source": [
    "# to calculate number of missed appointments by day of the week\n",
    "\n",
    "df.groupby('SchedWeekDay')['NoShowInt'].sum()"
   ]
  },
  {
   "cell_type": "code",
   "execution_count": 116,
   "metadata": {},
   "outputs": [
    {
     "data": {
      "text/plain": [
       "<matplotlib.legend.Legend at 0x7f0b308d47b8>"
      ]
     },
     "execution_count": 116,
     "metadata": {},
     "output_type": "execute_result"
    },
    {
     "data": {
      "image/png": "[encoded data removed]",
      "text/plain": [
       "<matplotlib.figure.Figure at 0x7f0b30e2b4e0>"
      ]
     },
     "metadata": {
      "needs_background": "light"
     },
     "output_type": "display_data"
    }
   ],
   "source": [
    "# to make a histogram of missed and not appointments by day of the week\n",
    "\n",
    "df[notShownUp].SchedWeekDay.hist(alpha=0.5, bins = 12, color='purple', label = 'no show') # did not show up\n",
    "df[shownUp].SchedWeekDay.hist(alpha=0.5, bins = 12, color='lightblue', label = 'show')\n",
    "plt.ylabel('Number of appointments')\n",
    "plt.xlabel('Day of the week')\n",
    "plt.title(\"Missed and not missed appointments by day of the week\")\n",
    "\n",
    "plt.legend()"
   ]
  },
  {
   "cell_type": "markdown",
   "metadata": {},
   "source": [
    "We see that the most appointments are missed at first half of the week from Monday through Wednesday. \n"
   ]
  },
  {
   "cell_type": "code",
   "execution_count": 120,
   "metadata": {},
   "outputs": [
    {
     "data": {
      "text/plain": [
       "<matplotlib.legend.Legend at 0x7f0b30536438>"
      ]
     },
     "execution_count": 120,
     "metadata": {},
     "output_type": "execute_result"
    },
    {
     "data": {
      "image/png": "[encoded data removed]",
      "text/plain": [
       "<matplotlib.figure.Figure at 0x7f0b305d9ef0>"
      ]
     },
     "metadata": {
      "needs_background": "light"
     },
     "output_type": "display_data"
    }
   ],
   "source": [
    "female.SchedWeekDay.hist(alpha=0.5, bins=50, color='purple', label = 'female') \n",
    "male.SchedWeekDay.hist(alpha=0.5, bins=50, color='lightblue', label = 'male')\n",
    "\n",
    "plt.ylabel('Number of appointments')\n",
    "plt.xlabel('Day of the week')\n",
    "plt.title(\"Male and Female Appointments by day of the week\")\n",
    "plt.legend()"
   ]
  },
  {
   "cell_type": "markdown",
   "metadata": {},
   "source": [
    "Men and Women have approximatelly the same proportion of appointments by day of the week.\n",
    "There is no distinct and significant correlation between days of the week, gender and missed appointments."
   ]
  },
  {
   "cell_type": "code",
   "execution_count": 121,
   "metadata": {},
   "outputs": [
    {
     "data": {
      "text/plain": [
       "<matplotlib.legend.Legend at 0x7f0b304a8128>"
      ]
     },
     "execution_count": 121,
     "metadata": {},
     "output_type": "execute_result"
    },
    {
     "data": {
      "image/png": "[encoded data removed]",
      "text/plain": [
       "<matplotlib.figure.Figure at 0x7f0b304a8c88>"
      ]
     },
     "metadata": {
      "needs_background": "light"
     },
     "output_type": "display_data"
    }
   ],
   "source": [
    "# to check missed and not appointments by month\n",
    "\n",
    "df[df.NoShowInt==0].SchedMonth.hist(alpha=0.5, bins=50, label = 'shown up') # did  show up\n",
    "df[df.NoShowInt==1].SchedMonth.hist(alpha=0.5, bins=50, label = 'no shown up') # didn't  show up\n",
    "\n",
    "plt.ylabel('Number of appointments')\n",
    "plt.xlabel('Months')\n",
    "plt.title(\"Missed and not Appointments by month\")\n",
    "plt.legend()"
   ]
  },
  {
   "cell_type": "markdown",
   "metadata": {},
   "source": [
    "Given that we have data only for 3 months and looks like only May (5) represented in full, we can't do any assumption about months influence on missed appointments."
   ]
  },
  {
   "cell_type": "markdown",
   "metadata": {},
   "source": [
    "<a id=\"hosp\"></a>\n",
    "    \n",
    "### Research Question 8 (Hospital)"
   ]
  },
  {
   "cell_type": "markdown",
   "metadata": {},
   "source": [
    "No let's check if any particular hospital location (neighbourhood) affects missed appointments."
   ]
  },
  {
   "cell_type": "code",
   "execution_count": 122,
   "metadata": {},
   "outputs": [
    {
     "data": {
      "text/plain": [
       "JARDIM CAMBURI    7717\n",
       "Name: Neighbourhood, dtype: int64"
      ]
     },
     "execution_count": 122,
     "metadata": {},
     "output_type": "execute_result"
    }
   ],
   "source": [
    "# to check hospital and number of appointments for each\n",
    "\n",
    "neighbourhood = df['Neighbourhood'].value_counts()\n",
    "neighbourhood.head(1)\n"
   ]
  },
  {
   "cell_type": "code",
   "execution_count": 125,
   "metadata": {},
   "outputs": [
    {
     "data": {
      "text/plain": [
       "Neighbourhood\n",
       "AEROPORTO                 8\n",
       "ANDORINHAS             2255\n",
       "ANTÔNIO HONÓRIO         271\n",
       "ARIOVALDO FAVALESSA     282\n",
       "BARRO VERMELHO          423\n",
       "Name: NoShowInt, dtype: int64"
      ]
     },
     "execution_count": 125,
     "metadata": {},
     "output_type": "execute_result"
    }
   ],
   "source": [
    "# to check number of appointments for each hospital\n",
    "\n",
    "total_nb = df.groupby('Neighbourhood').NoShowInt.count()\n",
    "total_nb.head(5)"
   ]
  },
  {
   "cell_type": "code",
   "execution_count": 126,
   "metadata": {},
   "outputs": [
    {
     "data": {
      "text/plain": [
       "Neighbourhood\n",
       "AEROPORTO                1\n",
       "ANDORINHAS             520\n",
       "ANTÔNIO HONÓRIO         50\n",
       "ARIOVALDO FAVALESSA     62\n",
       "BARRO VERMELHO          91\n",
       "Name: NoShowInt, dtype: int64"
      ]
     },
     "execution_count": 126,
     "metadata": {},
     "output_type": "execute_result"
    }
   ],
   "source": [
    "# to check number of missed appointments for each hospital\n",
    "noshow_nb = df.groupby('Neighbourhood').NoShowInt.sum()\n",
    "noshow_nb.head(5)"
   ]
  },
  {
   "cell_type": "markdown",
   "metadata": {},
   "source": [
    "Now we'll check the proportion of missed appointments for each hospital."
   ]
  },
  {
   "cell_type": "code",
   "execution_count": 127,
   "metadata": {},
   "outputs": [
    {
     "data": {
      "text/plain": [
       "Neighbourhood\n",
       "AEROPORTO              0.125000\n",
       "ANDORINHAS             0.230599\n",
       "ANTÔNIO HONÓRIO        0.184502\n",
       "ARIOVALDO FAVALESSA    0.219858\n",
       "BARRO VERMELHO         0.215130\n",
       "Name: NoShowInt, dtype: float64"
      ]
     },
     "execution_count": 127,
     "metadata": {},
     "output_type": "execute_result"
    }
   ],
   "source": [
    "# to check the proportion od missed appointments for each hospital\n",
    "\n",
    "proportion_nb = noshow_nb/total_nb\n",
    "proportion_nb.head(5)"
   ]
  },
  {
   "cell_type": "markdown",
   "metadata": {},
   "source": [
    "No we'll sort hospitals with most missed appointments and check if it depended on Scholarship or other variables."
   ]
  },
  {
   "cell_type": "code",
   "execution_count": 128,
   "metadata": {
    "scrolled": true
   },
   "outputs": [
    {
     "data": {
      "text/plain": [
       "Neighbourhood\n",
       "ILHAS OCEÂNICAS DE TRINDADE    1.000000\n",
       "SANTOS DUMONT                  0.289639\n",
       "SANTA CECÍLIA                  0.274554\n",
       "SANTA CLARA                    0.265347\n",
       "ITARARÉ                        0.262618\n",
       "JESUS DE NAZARETH              0.243954\n",
       "HORTO                          0.240000\n",
       "ILHA DO PRÍNCIPE               0.232846\n",
       "ANDORINHAS                     0.230599\n",
       "CARATOÍRA                      0.230109\n",
       "Name: NoShowInt, dtype: float64"
      ]
     },
     "execution_count": 128,
     "metadata": {},
     "output_type": "execute_result"
    }
   ],
   "source": [
    "# sorting hospitals with highest rate of missed appointments\n",
    "\n",
    "sorted_nb = proportion_nb.sort_values(ascending=False)\n",
    "sorted_nb.head(10)"
   ]
  },
  {
   "cell_type": "code",
   "execution_count": 135,
   "metadata": {},
   "outputs": [
    {
     "data": {
      "text/html": [
       "<div>\n",
       "<style>\n",
       "    .dataframe thead tr:only-child th {\n",
       "        text-align: right;\n",
       "    }\n",
       "\n",
       "    .dataframe thead th {\n",
       "        text-align: left;\n",
       "    }\n",
       "\n",
       "    .dataframe tbody tr th {\n",
       "        vertical-align: top;\n",
       "    }\n",
       "</style>\n",
       "<table border=\"1\" class=\"dataframe\">\n",
       "  <thead>\n",
       "    <tr style=\"text-align: right;\">\n",
       "      <th></th>\n",
       "      <th>Gender</th>\n",
       "      <th>ScheduledDay</th>\n",
       "      <th>AppointmentDay</th>\n",
       "      <th>Age</th>\n",
       "      <th>Neighbourhood</th>\n",
       "      <th>Scholarship</th>\n",
       "      <th>Hipertension</th>\n",
       "      <th>Diabetes</th>\n",
       "      <th>Alcoholism</th>\n",
       "      <th>Handcap</th>\n",
       "      <th>...</th>\n",
       "      <th>No-show</th>\n",
       "      <th>SchedYear</th>\n",
       "      <th>SchedMonth</th>\n",
       "      <th>SchedDay</th>\n",
       "      <th>SchedWeekday</th>\n",
       "      <th>AppYear</th>\n",
       "      <th>AppMonth</th>\n",
       "      <th>AppDay</th>\n",
       "      <th>SchedWeekDay</th>\n",
       "      <th>NoShowInt</th>\n",
       "    </tr>\n",
       "  </thead>\n",
       "  <tbody>\n",
       "    <tr>\n",
       "      <th>48754</th>\n",
       "      <td>F</td>\n",
       "      <td>2016-04-14 12:25:43</td>\n",
       "      <td>2016-05-13</td>\n",
       "      <td>51</td>\n",
       "      <td>ILHAS OCEÂNICAS DE TRINDADE</td>\n",
       "      <td>0</td>\n",
       "      <td>0</td>\n",
       "      <td>0</td>\n",
       "      <td>0</td>\n",
       "      <td>0</td>\n",
       "      <td>...</td>\n",
       "      <td>Yes</td>\n",
       "      <td>2016</td>\n",
       "      <td>4</td>\n",
       "      <td>14</td>\n",
       "      <td>3</td>\n",
       "      <td>2016</td>\n",
       "      <td>5</td>\n",
       "      <td>13</td>\n",
       "      <td>Thursday</td>\n",
       "      <td>1</td>\n",
       "    </tr>\n",
       "    <tr>\n",
       "      <th>48765</th>\n",
       "      <td>F</td>\n",
       "      <td>2016-04-14 12:26:13</td>\n",
       "      <td>2016-05-13</td>\n",
       "      <td>58</td>\n",
       "      <td>ILHAS OCEÂNICAS DE TRINDADE</td>\n",
       "      <td>0</td>\n",
       "      <td>0</td>\n",
       "      <td>0</td>\n",
       "      <td>0</td>\n",
       "      <td>0</td>\n",
       "      <td>...</td>\n",
       "      <td>Yes</td>\n",
       "      <td>2016</td>\n",
       "      <td>4</td>\n",
       "      <td>14</td>\n",
       "      <td>3</td>\n",
       "      <td>2016</td>\n",
       "      <td>5</td>\n",
       "      <td>13</td>\n",
       "      <td>Thursday</td>\n",
       "      <td>1</td>\n",
       "    </tr>\n",
       "  </tbody>\n",
       "</table>\n",
       "<p>2 rows × 21 columns</p>\n",
       "</div>"
      ],
      "text/plain": [
       "      Gender        ScheduledDay AppointmentDay  Age  \\\n",
       "48754      F 2016-04-14 12:25:43     2016-05-13   51   \n",
       "48765      F 2016-04-14 12:26:13     2016-05-13   58   \n",
       "\n",
       "                     Neighbourhood  Scholarship  Hipertension  Diabetes  \\\n",
       "48754  ILHAS OCEÂNICAS DE TRINDADE            0             0         0   \n",
       "48765  ILHAS OCEÂNICAS DE TRINDADE            0             0         0   \n",
       "\n",
       "       Alcoholism  Handcap    ...     No-show SchedYear  SchedMonth  SchedDay  \\\n",
       "48754           0        0    ...         Yes      2016           4        14   \n",
       "48765           0        0    ...         Yes      2016           4        14   \n",
       "\n",
       "       SchedWeekday  AppYear  AppMonth  AppDay  SchedWeekDay NoShowInt  \n",
       "48754             3     2016         5      13      Thursday         1  \n",
       "48765             3     2016         5      13      Thursday         1  \n",
       "\n",
       "[2 rows x 21 columns]"
      ]
     },
     "execution_count": 135,
     "metadata": {},
     "output_type": "execute_result"
    }
   ],
   "source": [
    "# to check what is going on with hospital with 100% missed appointments\n",
    "missedHosp = df.loc[df['Neighbourhood'] == 'ILHAS OCEÂNICAS DE TRINDADE']\n",
    "missedHosp"
   ]
  },
  {
   "cell_type": "markdown",
   "metadata": {},
   "source": [
    "We see that there were only 2 appointments and both were missed so data looks reliable."
   ]
  },
  {
   "cell_type": "markdown",
   "metadata": {},
   "source": [
    "Grouping and counting `Scholarship` cases for each hospital."
   ]
  },
  {
   "cell_type": "code",
   "execution_count": 136,
   "metadata": {},
   "outputs": [
    {
     "data": {
      "text/plain": [
       "Neighbourhood\n",
       "AEROPORTO                0\n",
       "ANDORINHAS             323\n",
       "ANTÔNIO HONÓRIO         14\n",
       "ARIOVALDO FAVALESSA     52\n",
       "BARRO VERMELHO           0\n",
       "Name: Scholarship, dtype: int64"
      ]
     },
     "execution_count": 136,
     "metadata": {},
     "output_type": "execute_result"
    }
   ],
   "source": [
    "# Grouping and counting Scholarship cases for each hospital.\n",
    "schol_nb_sum = df.groupby('Neighbourhood').Scholarship.sum()\n",
    "schol_nb_sum.head(5)"
   ]
  },
  {
   "cell_type": "markdown",
   "metadata": {},
   "source": [
    "Let's check the proportion of missed appointments for each hospital for patients with scholarship."
   ]
  },
  {
   "cell_type": "code",
   "execution_count": 137,
   "metadata": {},
   "outputs": [
    {
     "data": {
      "text/plain": [
       "Neighbourhood\n",
       "SÃO BENEDITO        0.280250\n",
       "DO MOSCOSO          0.270073\n",
       "ILHA DO PRÍNCIPE    0.256308\n",
       "PIEDADE             0.254425\n",
       "SANTOS REIS         0.219378\n",
       "dtype: float64"
      ]
     },
     "execution_count": 137,
     "metadata": {},
     "output_type": "execute_result"
    }
   ],
   "source": [
    "# calculating proportion of missed appointments for each hospital for patients with scholarship\n",
    "\n",
    "proportion_schol_nb = schol_nb_sum/total_nb\n",
    "proportion_schol_nb.sort_values(ascending=False).head(5)"
   ]
  },
  {
   "cell_type": "markdown",
   "metadata": {},
   "source": [
    "Grouping and counting `Alcoholism` cases for each hospital."
   ]
  },
  {
   "cell_type": "code",
   "execution_count": 138,
   "metadata": {},
   "outputs": [
    {
     "data": {
      "text/plain": [
       "Neighbourhood\n",
       "AEROPORTO               0\n",
       "ANDORINHAS             49\n",
       "ANTÔNIO HONÓRIO         0\n",
       "ARIOVALDO FAVALESSA    14\n",
       "BARRO VERMELHO          2\n",
       "Name: Alcoholism, dtype: int64"
      ]
     },
     "execution_count": 138,
     "metadata": {},
     "output_type": "execute_result"
    }
   ],
   "source": [
    "# Grouping and counting Alcoholism cases for each hospital.\n",
    "\n",
    "alc_nb_sum = df.groupby('Neighbourhood').Alcoholism.sum()\n",
    "# schol_nb_count.sort_values(ascending=False).head(5)\n",
    "alc_nb_sum.head(5)"
   ]
  },
  {
   "cell_type": "markdown",
   "metadata": {},
   "source": [
    "Let's check the proportion of missed appointments for each hospital for patients with alcoholistm."
   ]
  },
  {
   "cell_type": "code",
   "execution_count": 139,
   "metadata": {},
   "outputs": [
    {
     "data": {
      "text/plain": [
       "Neighbourhood\n",
       "ESTRELINHA      0.147388\n",
       "DO MOSCOSO      0.131387\n",
       "SANTA MARTHA    0.109219\n",
       "PRAIA DO SUÁ    0.079501\n",
       "DA PENHA        0.077828\n",
       "dtype: float64"
      ]
     },
     "execution_count": 139,
     "metadata": {},
     "output_type": "execute_result"
    }
   ],
   "source": [
    "# calculating the proportion of missed appointments for each hospital for patients with alcoholistm\n",
    "\n",
    "proportion_alc_nb = alc_nb_sum/total_nb\n",
    "proportion_alc_nb.sort_values(ascending=False).head(5)"
   ]
  },
  {
   "cell_type": "markdown",
   "metadata": {},
   "source": [
    "As we see Hospitals with highest levels of Diabetes and Alcoholism are not among Hospitals with highest missed appointments rate.\n",
    "So we can't make a prediction on missed appointments based only on hospitals, we need to check the combination of all variables."
   ]
  },
  {
   "cell_type": "markdown",
   "metadata": {},
   "source": [
    "<a id='conclusions'></a>\n",
    "## Conclusions\n",
    "\n",
    "From the initial data we could see that:\n",
    "\n",
    "- Average age is 37.09 yo,\n",
    "- Scholarship mean is almost 0.1, so only 10% of patient had scholarship for medical insurance,\n",
    "- Only 7% of people had Diabetes,\n",
    "- 3% people had Alcoholism,\n",
    "- Almost 20% had Hipertention,\n",
    "So Hipertention is the most common medical condition among observed. \n",
    "- 32% of people received SMS,\n",
    "- 2% patients Handicaped,\n",
    "- at average 20% of patients missed their appointments.\n",
    "\n",
    "As we see from queries men are 35% of patients and women are 65% of patients.\n",
    "As we see despite different numbers of appointments for men and women the same proportion of men and women have missed their appointment: 0.2 . So unlikely this variable affect missed appointments.\n",
    "\n",
    "Women's Age is almost normally distrubuted with mode at 40 years old. At histogram with missed appoinments we see that both men and women histogram are keeping their shape with female distribution getting narrow. It could be related with child bearing before mode age and some sickness after - will check for Diabetes and Hipertension later.\n",
    "\n",
    "\n",
    "We see that missed SMS mostly affected patients at the beginning of the week and before 60 yo. There is the chance that after 60 people mostly relay on written reminders.\n",
    "Yes, variable SMS affects missed appointments: 44% of patients received SMS have not shown up and 56% of patients who didn't receieved SMS not shown up.\n",
    "\n",
    "Just as a reminder the proportion of missed appointments for men and women are:\n",
    "\n",
    "'proportion men no show', '0.20', 'proportion female no show', '0.20'\n",
    "\n",
    "As we see the proportion of male and female who had diabetes and missed their appointments (calculated for Diabetes patients) are less than total average for missed appointments (0.18 vs 0.2)\n",
    "\n",
    "It's clear that Scholarship recipients with Diabetes almost never miss their appointments comparing to patients without Scholarship with Diabetes whose numbers are close to average missed appointments. In total Scholarship recepients tend to miss more appointments: 24% of Scholarship recipients have missed their appointments.\n",
    "\n",
    "There are three times more Male patients with Alcoholism in % comparing to Female. Female patients with Alcoholism are normally distributed with mean 45.3 yo and mode 45yo while Male patients with Alcoholism are close to normal distribution but slightly negatively skewed with mean 52 yo and mode 63 yo\n",
    "\n",
    "Female with Alcoholism tend to miss more appointment then Male.\n",
    "\n",
    "\n",
    "We see that the most appointments are missed at first half of the week from Monday through Wednesday.\n",
    "\n",
    "Men and Women miss approximatelly the same number of appointments. There is no distinct and significant correlation between days of the week, gender and missed appointments.\n",
    "\n",
    "As we see Hospitals with highest levels of Diabetes and Alcoholism are not among Hospitals with highest missed appointments rate. So we can't make a prediction on missed appointments based only on hospitals, we need to check the combination of all variables.\n",
    "\n",
    "\n",
    "\n",
    "\n",
    "## Submitting your Project \n",
    "\n",
    "> Before you submit your project, you need to create a .html or .pdf version of this notebook in the workspace here. To do that, run the code cell below. If it worked correctly, you should get a return code of 0, and you should see the generated .html file in the workspace directory (click on the orange Jupyter icon in the upper left).\n",
    "\n",
    "> Alternatively, you can download this report as .html via the **File** > **Download as** submenu, and then manually upload it into the workspace directory by clicking on the orange Jupyter icon in the upper left, then using the Upload button.\n",
    "\n",
    "> Once you've done this, you can submit your project by clicking on the \"Submit Project\" button in the lower right here. This will create and submit a zip file with this .ipynb doc and the .html or .pdf version you created. Congratulations!"
   ]
  },
  {
   "cell_type": "code",
   "execution_count": 73,
   "metadata": {},
   "outputs": [
    {
     "data": {
      "text/plain": [
       "0"
      ]
     },
     "execution_count": 73,
     "metadata": {},
     "output_type": "execute_result"
    }
   ],
   "source": [
    "from subprocess import call\n",
    "call(['python', '-m', 'nbconvert', 'Investigate_a_Dataset.ipynb'])"
   ]
  }
 ],
 "metadata": {
  "kernelspec": {
   "display_name": "Python 3",
   "language": "python",
   "name": "python3"
  },
  "language_info": {
   "codemirror_mode": {
    "name": "ipython",
    "version": 3
   },
   "file_extension": ".py",
   "mimetype": "text/x-python",
   "name": "python",
   "nbconvert_exporter": "python",
   "pygments_lexer": "ipython3",
   "version": "3.6.3"
  }
 },
 "nbformat": 4,
 "nbformat_minor": 2
}
